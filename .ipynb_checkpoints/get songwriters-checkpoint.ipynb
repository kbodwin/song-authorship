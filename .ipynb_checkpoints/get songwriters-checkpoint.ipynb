{
 "cells": [
  {
   "cell_type": "code",
   "execution_count": 14,
   "metadata": {
    "collapsed": true
   },
   "outputs": [],
   "source": [
    "import re\n",
    "import json"
   ]
  },
  {
   "cell_type": "code",
   "execution_count": 2,
   "metadata": {
    "collapsed": true
   },
   "outputs": [],
   "source": [
    "s = \"\"\"\n",
    "20. Sarah Aarons\n",
    "So far, this 23-year-old Australian only has one hit to her credit, but it's a huge one — \"Stay,\" the ticking-clock chart-topper from EDM super-producer Zedd featuring Alessia Cara on vocals. Now based in L.A., Aarons has been working with the likes of Jessie Ware (for whom she co-wrote the recent single \"Alone\"), Demi Lovato, MØ, Bishop Briggs and her fellow Aussie Flume. Aarons has an autoimmune disease that would make it next to impossible to be a performer herself but has said in interviews that she much prefers working as a behind-the-scenes songwriter anyway. \"I have to do well enough that if I am in a wheelchair one day, they will build a ramp to a studio to get me in it,\" she told Australia's ABC News. \"That was always my goal.\"\n",
    "\n",
    "\n",
    "19. Tobias Jesso Jr.\n",
    "This Canadian singer-songwriter owes his side gig as a writer-for-hire to one very high-profile fan: Adele, who asked him to write material for her 25 album after she was smitten by \"Hollywood,\" one of the more haunting tracks from his 2015 solo debut, Goon. That collaboration led to 25's second single, \"When We Were Young,\" as well as another song, \"Alive,\" that eventually found its way onto Sia's 2016 album, This Is Acting. Jesso hasn't done much hired-gun songwriting since, but he knocks it out of the park nearly every time he lends his talents to another artist, from the bluesy swagger of ex–One Directioner Niall Horan's \"Slow Hands\" to the luminous piano balladry of John Legend's \"Same Old Story.\"\n",
    "\n",
    "\n",
    "18. Savan Kotecha\n",
    "Legendary Swedish pop mastermind Max Martin keeps a small army of songwriters employed, including such proven hitmakers as RedOne, Shellback and Alexander Kronlund. (Dr. Luke once was one of his protégés as well, although Martin would probably prefer we forget that.) Next to those names, Savan Kotecha's is less well-known, even though he's been co-writing hits for Martin for nearly a decade, starting with Britney Spears' \"If You Seek Amy,\" part of her 2008 comeback. But over the last few years, Kotecha has been on a roll, with a hand in such Martin-produced smashes as Ariana Grande's \"Side to Side,\" Demi Lovato's \"Cool for the Summer,\" The Weeknd's \"Can't Feel My Face\" and Ellie Goulding's Fifty Shades of Grey anthem \"Love Me Like You Do.\" The Texas native's latest project is writing songs for PrettyMuch, a new boy band formed by Simon Cowell, with whom Kotecha first connected while appearing as a vocal coach on The X Factor.\n",
    "\n",
    "\n",
    "17. Benny Blanco\n",
    "The producer-songwriter born Benjamin Levin got his start apprenticed to Dr. Luke, with whom he co-wrote hits for Katy Perry (\"Teenage Dream\") and Kesha (\"Tik Tok\") among others. His breakthrough hit away from his former mentor was Maroon 5's \"Moves Like Jagger,\" a disco-inflected jam that was virtually inescapable in 2011. Since then, he has signed a long-term production and songwriting deal with the Interscope Geffen A&M imprint, under which he maintains not one but two of his own imprints: Friends Keep Secrets (home to Jessie Ware) and Mad Love Records (Ryn Weaver, Cashmere Cat). He also continues to churn out hits, including Maroon 5's \"Don't Wanna Know,\" Ed Sheeran's \"Castle on the Hill\" and Camila Cabello's \"Crying in the Club.\"\n",
    "\n",
    "\n",
    "16. Starrah\n",
    "Born Brittany Hazzard, Starrah is a 27-year-old triple threat singer, rapper and songwriter who has been having a monster 2017. Among her hits in the past year: Nicki Minaj's \"No Frauds,\" Halsey's \"Now or Never,\" Katy Perry's \"Swish Swish\" and Maroon 5's \"What Lovers Do.\" According to a recent Billboard profile, she got her start selling song hooks on Instagram for $100 a pop; an A&R person at Madonna's Maverick Records discovered her on SoundCloud and helped her land her first placement, Kid Ink's 2015 hit \"Be Real.\" Since then, her client list has grown to include Rihanna, Drake, Travis Scott and Calvin Harris. She's also pursuing her own artist career, including a forthcoming collaborative EP with Diplo.\n",
    "\n",
    "\n",
    "15. Jacob “JKash” Kasher\n",
    "Like many other songwriters on this list, Jacob Kasher Hindlin is an East Coast transplant (Virginia, in his case) now based in L.A. But in most other regards, he's an anomaly in today's producer-driven songwriting landscape — a former rapper who specializes in writing memorable lyrics and topline melodies. Anytime there's been a song on the charts over the past several years that's actually been about something, JKash often had a hand in it: Selena Gomez's \"Sober,\" Meghan Trainor's \"NO,\" Charlie Puth's \"Attention.\" \"I’m a terrible singer and I can’t play any instruments and I don’t know how to turn on a computer,\" he said in an interview with Idolator earlier this year, \"but I’m a really good collaborator. That’s what I do best. I can pull really good things out of people.\"\n",
    "\n",
    "\n",
    "14. Hillary Lindsey\n",
    "When Lady Gaga wanted a more countrified sound for her latest album, Joanne, she turned to Nashville-based singer-songwriter Hillary Lindsey, a master crafter of country-pop crossover hits. Lindsey first came to prominence in 2005 when she co-wrote Carrie Underwood's \"Jesus, Take the Wheel,\" which garnered her the first of her two Grammy nominations for Song of the Year (the other, just last year, was for her work on Little Big Town's \"Girl Crush\"). For Gaga, Lindsey co-wrote the hits \"A-Yo\" and \"Million Reasons,\" the latter of which she also sang backing vocals on. Her top client continues to be Underwood, for whom she written more than 30 songs; on the country superstar's most recent album, Storyteller, she contributed to the hits \"Smoke Break,\" \"Church Bells\" and \"Dirty Laundry.\"\n",
    "\n",
    "\n",
    "13. Stargate\n",
    "If this list were coming out in 2010, this Norwegian duo probably would have been at the top, thanks to a string of worldwide smashes that included Wiz Khalifa's \"Black and Yellow,\" Rihanna's \"Only Girl (in the World)\" and Katy Perry's \"Fireworks.\" Though they've cooled, relatively speaking, since that hot streak, Tor Hermansen and Mikkel Eriksen continue to be first-call collaborators for such artists as Shakira, Selena Gomez, Charli XCX and their most frequent hitmaking partner, Rihanna. Last month, they scored their 26th U.S. top 10 single with Sam Smith's \"Too Good at Goodbyes.\"\n",
    "\n",
    "\n",
    "12. Sia\n",
    "Speaking of Rihanna collaborators — though she's now better-known for her solo career (and offbeat taste in face-obscuring wigs), Sia Furler continues to crank out hit songs for other artists. In fact, her last album, 2016's This Is Acting, was made up entirely of songs originally intended for the likes of Shakira and RiRi. Among her recent hired-gun efforts that didn't end up on the cutting-room floor: Katy Perry's \"Chained to the Rhythm,\" Camila Cabello's \"Crying in the Club\" and Zayn's \"Dusk Till Dawn,\" on which Sia also turns up as a featured vocalist. Whether writing for herself or others, Sia's songs are always full of emotional drama and melodies that soar and surge in unexpected ways.\n",
    "\n",
    "\n",
    "11. Justin Tranter and Julia Michaels\n",
    "Until 2014, Justin Tranter was the flamboyant lead singer of New York glam-pop rockers Semi Precious Weapons. After that band called it quits, he connected with a then-20-year-old singer-songwriter from Iowa named Julia Michaels, and they began co-writing hits for the likes of Selena Gomez (\"Good for You,\" \"Hands to Myself\"), Gwen Stefani (\"Used to Love You\") and Justin Bieber (\"Sorry\"). As Michaels has continued to pursue a solo career (her debut EP, Nervous System, featuring co-writes by Tranter and production by Benny Blanco and Stargate, came out this summer), Tranter has occasionally worked without her, lending his knack for attitude-filled pop hooks to Kesha's latest album, Rainbow, and Maroon 5's \"Cold.\" But the duo continue to do their best work together — as proven on such recent hits as Bieber's \"Friends\" and Gomez's \"Psycho Killer\"–sampling \"Bad Liar.\"\n",
    "\n",
    "\n",
    "10. Pop & Oak\n",
    "Andrew \"Pop\" Wansel and Warren \"Oak\" Felder got their start as hip-hop producers, laying down backing tracks for Nicki Minaj (\"Your Love\") and Big Sean (\"Marvin & Chardonnay\"). But right from the start, their productions had a melodic, soulful quality that spoke to their gifts as songwriters, not just beat-makers — which is not surprising, given that Pop is the son of Dexter Wansel, a staff writer and musician for Philly soul legends Gamble and Huff. Since their breakthrough work on Minaj's 2010 album, Pink Friday, they've gone on to produce and co-write hits — both separately and as a duo — for a who's who of platinum-selling pop and R&B artists, including Demi Lovato, Usher, Kehlani, Miguel, Kelly Clarkson and Britney Spears. Even at their catchiest, Pop & Oak always give their tunes a little hip-hop swagger and club-friendly thump.\n",
    "\n",
    "\n",
    "9. Greg Kurstin\n",
    "Though known more as a producer, L.A. native Greg Kurstin is no slouch in the songwriting department. He was Adele's co-writer on \"Hello,\" the 2015 Grammy-winning smash that was so ubiquitous it inspired its own SNL sketch about how it was the one thing everyone could agree on at the Thanksgiving dinner table. He also has penned hits for artists as diverse as Zayn Malik (\"Dusk Till Dawn\"), Sia (\"Cheap Thrills,\" \"Chandelier\") and Tegan and Sara (\"Boyfriend\"). Most recently, he co-produced and co-wrote most of Colors, the new album from Beck — who gave Kurstin a leg up early in his career by hiring the multi-instrumentalist as his touring keyboardist.\n",
    "\n",
    "\n",
    "8. Metro Boomin\n",
    "St. Louis' Leland Wayne just turned 24, but he's already one of the most in-demand producer-songwriters in hip-hop, riding an astonishing hot streak that began with his first tracks for Future, \"Karate Chop\" and \"Honest,\" and has continued with multiplatinum anthems for Drake, 21 Savage, Migos, Big Sean and Post Malone. His sound, as heard on such inescapable tracks as Migos' \"Bad and Boujee\" and Future's \"Mask Off,\" could best be described as woozy, after-hours club anthems — songs you can dance to, take drugs to, have sex to, or just nod along to when you and your crew have poured yourselves into an Uber at the end of a long night. “I started making beats when I was 13,” he told Fader in a 2016 cover story, when his Future/Weeknd track \"Low Life\" was climbing the charts. “And I’m about to be 23. That’s 10 years. And it’s just now starting to pay off.”\n",
    "\n",
    "\n",
    "7. Max Martin\n",
    "If this were a list of the all-time greatest songwriting pros, Martin likely would top it — or at least be in the conversation with the hitmakers of earlier eras like Gamble/Huff, Goffin/King and Leiber/Stoller. His name is on 22 Billboard No. 1 hits, more than anyone except John Lennon and Paul McCartney. But since pop songwriting can be a very \"What have you done for me lately?\" business, Martin's stock has fallen a bit, though he's still without question among the most sought-after producer-songwriters in the biz. This year, he's co-written and produced Top 10 hits for Taylor Swift (\"... Ready for It?\") and Katy Perry (\"Chained to the Rhythm\"), and it's likely that before year's end he'll score another with P!nk's \"Revenge,\" featuring Eminem. He also continues to work with the likes of The Weeknd, Justin Timberlake and Lana Del Rey, and considering that nearly every other songwriter on this list, directly or indirectly, owes a huge debt to his hyper-polished production style and soaring choruses, it's likely that his days of cranking out No. 1 hits are far from over.\n",
    "\n",
    "\n",
    "6. James Fauntleroy\n",
    "Like No. 13 on our list, Stargate, this Inglewood native owes much of his success to the hit-generating juggernaut that is Team Rihanna. After co-writing numerous tracks for RiRi's 2009 album, Rated R, including the hits \"Wait Your Turn\" and \"Te Amo,\" Fauntleroy's songwriting career went ballistic, leading to collabs with Common, Kanye West, Justin Timberlake, Beyoncé, Bruno Mars and Kendrick Lamar. He won a Grammy in 2014 for his work on Timberlake's \"Pusher Love Girl,\" and co-wrote several standout tracks on Lamar's landmark To Pimp a Butterfly, including \"These Walls\" and \"How Much a Dollar Cost?\" also adding background vocals to the latter track. More recently, he co-wrote nearly all of Bruno Mars' third album, 24K Magic, including the hits \"That's What I Like\" and \"Versace on the Floor,\" and continues to release his own throwback soul tracks through his highly addictive SoundCloud page.\n",
    "\n",
    "\n",
    "5. Erika Ender\n",
    "As we noted in our recent profile of this Panamanian singer-songwriter, Ender has contributed tracks to more than 160 albums over the course of her 25-year career, and was just inducted into the Latin Songwriters Hall of Fame. But she remained virtually unknown outside the Latin music industry until \"Despacito,\" the song she wrote with Luis Fonsi and Daddy Yankee, became a global smash. With catchy Latin American hits under her belt for such artists as Gloria Trevi, Los Tigres del Norte and Milly Quezada, the Miami-based songwriter is now poised to work her crossover magic for many more Latin artists — and don't be surprised if you start seeing her name in the credits for more English-language pop stars as well.\n",
    "\n",
    "\n",
    "4. Mike Will Made It\n",
    "The highest-ranked hip-hop producer on our list is responsible for three of the most indelible hits of the past two years: Beyoncé's \"Formation,\" Rae Sremmurd's \"Black Beatles\" and Kendrick Lamar's \"Humble.\" Mike Will's production style is percussive but also hook-filled; just think of the twanging rubber-band synths on \"Formation,\" or the pulsing piano chords on \"Humble.\" \"With 'Humble,' I knew that beat was going to capture a moment,\" he told NPR shortly after the song's release. Before that, he helped Miley Cyrus reinvent herself as a twerking bad girl by co-writing and co-producing half her Bangerz album, and also created hits for Rihanna, Ciara and Lil Wayne. The Georgia native isn't as prolific as some other producer-songwriters on this list, but he doesn't have to be; a 2013 Billboard cover story alleged that he made $75,000 to $100,000 per track, and his price has surely gone up since then.\n",
    "\n",
    "\n",
    "3. Jack Antonoff\n",
    "New Jersey's Jack Antonoff has been a professional musician for 15 years, starting with the band Steel Train and then moving on to the pop trio Fun. (yes, with a period) and his solo project, Bleachers. Following the breakout success of Fun.'s \"We Are Young\" in 2011, Antonoff was lured into the songwriter-for-hire game, collaborating on tracks with Carly Rae Jepsen and Tegan and Sara. The latter duo introduced him to Sara Bareilles, with whom he penned the track that really put him on people's radar as a go-to writing partner: \"Brave,\" a 2013 hit that also became an LGBTQ enpowerment anthem. He's worked steadily ever since with artists ranging from Rachel Platten to Sia to Fifth Harmony, but 2017 has really been his breakout year, as his production and songwriting efforts with Lorde (\"Green Light\"), Taylor Swift (\"Look What You Made Me Do\") and St. Vincent (most of her new album, Masseduction) have been among the year's most talked-about songs.\n",
    "\n",
    "\n",
    "IF YOU LIKE THIS STORY, CONSIDER SIGNING UP FOR OUR EMAIL NEWSLETTERS.\n",
    "SHOW ME HOW\n",
    "2. Ricky Reed\n",
    "The Bay Area producer-songwriter born Eric Frederic, who started out releasing his own quirky electro-pop under the name Wallpaper. (yes, with a period — what is it with pro songwriters and periods?), is a master of building tracks that are both hard-hitting and playful, with lots of syncopated percussion and dirty synths (or guitar, or both). His breakthrough track was Jason Derulo's deliciously raunchy \"Talk Dirty,\" which went quadruple platinum and put Reed on the map as a go-to collaborator for bands and pop stars in search of songs that were radio-friendly but also kinda weird. He gave Meghan Trainor her best track since \"All About That Bass\" (the even sassier \"NO\"), gave Phantogram their best track ever (the shoulda-been-a-bigger-hit \"You Don't Get Me High Anymore\") and has penned offbeat anthems for Kesha, 5 Seconds of Summer, Maroon 5 and even Colombian electro-rockers Bomba Estéreo. Earlier this year, he received his first Grammy nomination for Producer of the Year. He lost to Greg Kurstin, but his turn will come.\n",
    "\n",
    "\n",
    "1. Steve Mac\n",
    "\"\"\""
   ]
  },
  {
   "cell_type": "code",
   "execution_count": 15,
   "metadata": {},
   "outputs": [],
   "source": [
    "comp = [re.sub(\"[0-9]{1,2}\\.\", \"\", x.group()).strip() for x in re.finditer(\"\\n[0-9]{1,2}\\. [A-Z].+?\\n\", s)]"
   ]
  },
  {
   "cell_type": "code",
   "execution_count": 17,
   "metadata": {},
   "outputs": [],
   "source": [
    "with open(\"composers.json\", \"w\") as f:\n",
    "    json.dump(comp, f)"
   ]
  }
 ],
 "metadata": {
  "kernelspec": {
   "display_name": "Python 3",
   "language": "python",
   "name": "python3"
  },
  "language_info": {
   "codemirror_mode": {
    "name": "ipython",
    "version": 3
   },
   "file_extension": ".py",
   "mimetype": "text/x-python",
   "name": "python",
   "nbconvert_exporter": "python",
   "pygments_lexer": "ipython3",
   "version": "3.6.2"
  }
 },
 "nbformat": 4,
 "nbformat_minor": 2
}
