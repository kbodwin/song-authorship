{
 "cells": [
  {
   "cell_type": "code",
   "execution_count": 104,
   "metadata": {
    "scrolled": true
   },
   "outputs": [
    {
     "name": "stderr",
     "output_type": "stream",
     "text": [
      "Installing package into 'C:/Users/Sam/Documents/R/win-library/3.5'\n",
      "(as 'lib' is unspecified)\n",
      "also installing the dependency 'modeltools'\n",
      "\n"
     ]
    },
    {
     "name": "stdout",
     "output_type": "stream",
     "text": [
      "package 'modeltools' successfully unpacked and MD5 sums checked\n",
      "package 'topicmodels' successfully unpacked and MD5 sums checked\n",
      "\n",
      "The downloaded binary packages are in\n",
      "\tC:\\Users\\Sam\\AppData\\Local\\Temp\\RtmpMni5xw\\downloaded_packages\n"
     ]
    }
   ],
   "source": [
    "# install.packages(\"magrittr\")\n",
    "# install.packages(\"tidytext\")\n",
    "# install.packages(\"ggplot2\")\n",
    "# install.packages(\"tm\")\n",
    "# install.packages(\"topicmodels\")\n",
    "\n",
    "library(purrr)\n",
    "library(magrittr)\n",
    "library(tidyr)\n",
    "library(tidytext)\n",
    "library(dplyr)\n",
    "library(stringr)\n",
    "library(ggplot2)\n",
    "library(tm)\n",
    "library(topicmodels)"
   ]
  },
  {
   "cell_type": "code",
   "execution_count": 55,
   "metadata": {
    "collapsed": true
   },
   "outputs": [],
   "source": [
    "library = \"C:\\\\Users\\\\liblabs-user\\\\Desktop\\\\song-authorship\\\\data\"\n",
    "laptop = \"not yet\"\n",
    "desktop = \"C:\\\\Users\\\\Sam\\\\Desktop\\\\song authorship\\\\data\""
   ]
  },
  {
   "cell_type": "code",
   "execution_count": 56,
   "metadata": {},
   "outputs": [],
   "source": [
    "df <- read.csv(\n",
    "    paste(desktop, \"\\\\Billboard_2017.csv\", sep = \"\"),\n",
    "    encoding = \"UTF-8\",\n",
    "    stringsAsFactors = FALSE)"
   ]
  },
  {
   "cell_type": "markdown",
   "metadata": {},
   "source": [
    "\\# of songs word appears in vs # of appearances  (song coverage)\n",
    "Punctuation, etc in cleaning\n",
    "\n",
    "\n",
    "To-Do list:\n",
    "Charlie:\n",
    "- Transition to R\n",
    "- Log-odds with song counts instead of word counts **done**\n",
    "- Sentiment analysis  (see Drobinson)\n",
    "- Latent Dirichlet\n",
    "- Surprise me?\n",
    "- N-grams\n",
    "- Refer to 7/20 notes\n"
   ]
  },
  {
   "cell_type": "markdown",
   "metadata": {},
   "source": [
    "#### Personal notes\n",
    "\n",
    "- `str_detect`\n",
    " - checks whether a token is in the string\n",
    " \n",
    " \n",
    "- `str_replace_all(word, regex to replace, token to replace with)`\n",
    " - equiv to re.sub\n",
    " \n",
    " \n",
    "- `unnest_wokens(word, text)`\n",
    " - word: output column name\n",
    " - text: input column that the text comes from\n",
    " \n",
    " \n",
    "- `spread(key, value)`\n",
    " - takes key, all possible values and creates columns out of the values.\n",
    " - nice function"
   ]
  },
  {
   "cell_type": "code",
   "execution_count": 5,
   "metadata": {},
   "outputs": [
    {
     "data": {
      "text/html": [
       "'w'"
      ],
      "text/latex": [
       "'w'"
      ],
      "text/markdown": [
       "'w'"
      ],
      "text/plain": [
       "[1] \"w\""
      ]
     },
     "metadata": {},
     "output_type": "display_data"
    }
   ],
   "source": [
    "str_replace_all(\"wowzers\", \".+\", \"w\")"
   ]
  },
  {
   "cell_type": "code",
   "execution_count": 6,
   "metadata": {},
   "outputs": [
    {
     "data": {
      "text/html": [
       "FALSE"
      ],
      "text/latex": [
       "FALSE"
      ],
      "text/markdown": [
       "FALSE"
      ],
      "text/plain": [
       "[1] FALSE"
      ]
     },
     "metadata": {},
     "output_type": "display_data"
    }
   ],
   "source": [
    "!str_detect(\"hello there\", \"^\")"
   ]
  },
  {
   "cell_type": "code",
   "execution_count": 59,
   "metadata": {
    "collapsed": true
   },
   "outputs": [],
   "source": [
    "reg <- \"([^A-Za-z\\\\d#@']|'(?![A-Za-z\\\\d#@]))\"\n",
    "\n",
    "df_words <- df %>%\n",
    "    unnest_tokens(word, Lyrics, token = \"regex\", pattern = reg, collapse = TRUE) %>%\n",
    "    filter(!word %in% stop_words$word, \n",
    "           str_detect(word, \"[a-z]\"))\n",
    "\n",
    "unique_df_words <- unique(df_words)"
   ]
  },
  {
   "cell_type": "markdown",
   "metadata": {},
   "source": [
    "## Log-Odds"
   ]
  },
  {
   "cell_type": "code",
   "execution_count": 61,
   "metadata": {},
   "outputs": [
    {
     "name": "stderr",
     "output_type": "stream",
     "text": [
      "`mutate_each()` is deprecated.\n",
      "Use `mutate_all()`, `mutate_at()` or `mutate_if()` instead.\n",
      "To map `funs` over a selection of variables, use `mutate_at()`\n"
     ]
    }
   ],
   "source": [
    "ratios <- unique_df_words %>%\n",
    "    count(word, Songwriter) %>%\n",
    "    filter(sum(n) > 1) %>%\n",
    "    spread(Songwriter, n, fill = 0) %>%\n",
    "    ungroup() %>% #what is this used for?\n",
    "    mutate_each(funs((. + 1) / sum(. + 1)), -word) %>%\n",
    "    mutate(logratio = log2(True / False)) %>%\n",
    "    arrange(desc(logratio))"
   ]
  },
  {
   "cell_type": "code",
   "execution_count": 62,
   "metadata": {
    "collapsed": true
   },
   "outputs": [
    {
     "data": {
      "text/html": [
       "<table>\n",
       "<thead><tr><th scope=col>word</th><th scope=col>False</th><th scope=col>True</th><th scope=col>logratio</th></tr></thead>\n",
       "<tbody>\n",
       "\t<tr><td>phone          </td><td>0.0001275022   </td><td>0.0010864504   </td><td>3.091028       </td></tr>\n",
       "\t<tr><td>changed        </td><td>0.0001275022   </td><td>0.0006208288   </td><td>2.283673       </td></tr>\n",
       "\t<tr><td>graduated      </td><td>0.0001275022   </td><td>0.0006208288   </td><td>2.283673       </td></tr>\n",
       "\t<tr><td>hah            </td><td>0.0001275022   </td><td>0.0006208288   </td><td>2.283673       </td></tr>\n",
       "\t<tr><td>lives          </td><td>0.0001275022   </td><td>0.0006208288   </td><td>2.283673       </td></tr>\n",
       "\t<tr><td>one's          </td><td>0.0001275022   </td><td>0.0006208288   </td><td>2.283673       </td></tr>\n",
       "\t<tr><td>respect        </td><td>0.0001275022   </td><td>0.0006208288   </td><td>2.283673       </td></tr>\n",
       "\t<tr><td>shooters       </td><td>0.0001275022   </td><td>0.0006208288   </td><td>2.283673       </td></tr>\n",
       "\t<tr><td>smoking        </td><td>0.0001275022   </td><td>0.0006208288   </td><td>2.283673       </td></tr>\n",
       "\t<tr><td>strip          </td><td>0.0001275022   </td><td>0.0006208288   </td><td>2.283673       </td></tr>\n",
       "\t<tr><td>sucker         </td><td>0.0001275022   </td><td>0.0006208288   </td><td>2.283673       </td></tr>\n",
       "\t<tr><td>waiting        </td><td>0.0001275022   </td><td>0.0006208288   </td><td>2.283673       </td></tr>\n",
       "\t<tr><td>wishin         </td><td>0.0001275022   </td><td>0.0006208288   </td><td>2.283673       </td></tr>\n",
       "\t<tr><td>skrrt          </td><td>0.0002550045   </td><td>0.0010864504   </td><td>2.091028       </td></tr>\n",
       "\t<tr><td>answers        </td><td>0.0001275022   </td><td>0.0004656216   </td><td>1.868636       </td></tr>\n",
       "\t<tr><td>bih            </td><td>0.0001275022   </td><td>0.0004656216   </td><td>1.868636       </td></tr>\n",
       "\t<tr><td>blunt          </td><td>0.0001275022   </td><td>0.0004656216   </td><td>1.868636       </td></tr>\n",
       "\t<tr><td>bricks         </td><td>0.0001275022   </td><td>0.0004656216   </td><td>1.868636       </td></tr>\n",
       "\t<tr><td>callin         </td><td>0.0001275022   </td><td>0.0004656216   </td><td>1.868636       </td></tr>\n",
       "\t<tr><td>chicken        </td><td>0.0001275022   </td><td>0.0004656216   </td><td>1.868636       </td></tr>\n",
       "\t<tr><td>clip           </td><td>0.0001275022   </td><td>0.0004656216   </td><td>1.868636       </td></tr>\n",
       "\t<tr><td>codeine        </td><td>0.0001275022   </td><td>0.0004656216   </td><td>1.868636       </td></tr>\n",
       "\t<tr><td>condo          </td><td>0.0001275022   </td><td>0.0004656216   </td><td>1.868636       </td></tr>\n",
       "\t<tr><td>congratulations</td><td>0.0001275022   </td><td>0.0004656216   </td><td>1.868636       </td></tr>\n",
       "\t<tr><td>court          </td><td>0.0001275022   </td><td>0.0004656216   </td><td>1.868636       </td></tr>\n",
       "\t<tr><td>crime          </td><td>0.0001275022   </td><td>0.0004656216   </td><td>1.868636       </td></tr>\n",
       "\t<tr><td>da             </td><td>0.0001275022   </td><td>0.0004656216   </td><td>1.868636       </td></tr>\n",
       "\t<tr><td>date           </td><td>0.0001275022   </td><td>0.0004656216   </td><td>1.868636       </td></tr>\n",
       "\t<tr><td>devil          </td><td>0.0001275022   </td><td>0.0004656216   </td><td>1.868636       </td></tr>\n",
       "\t<tr><td>disaster       </td><td>0.0001275022   </td><td>0.0004656216   </td><td>1.868636       </td></tr>\n",
       "\t<tr><td>...</td><td>...</td><td>...</td><td>...</td></tr>\n",
       "\t<tr><td>started     </td><td>0.0005100089</td><td>0.0001552072</td><td>-1.716327   </td></tr>\n",
       "\t<tr><td>staying     </td><td>0.0005100089</td><td>0.0001552072</td><td>-1.716327   </td></tr>\n",
       "\t<tr><td>throwing    </td><td>0.0005100089</td><td>0.0001552072</td><td>-1.716327   </td></tr>\n",
       "\t<tr><td>thunder     </td><td>0.0005100089</td><td>0.0001552072</td><td>-1.716327   </td></tr>\n",
       "\t<tr><td>tongue      </td><td>0.0005100089</td><td>0.0001552072</td><td>-1.716327   </td></tr>\n",
       "\t<tr><td>walked      </td><td>0.0005100089</td><td>0.0001552072</td><td>-1.716327   </td></tr>\n",
       "\t<tr><td>worst       </td><td>0.0005100089</td><td>0.0001552072</td><td>-1.716327   </td></tr>\n",
       "\t<tr><td>would've    </td><td>0.0005100089</td><td>0.0001552072</td><td>-1.716327   </td></tr>\n",
       "\t<tr><td>bite        </td><td>0.0006375112</td><td>0.0001552072</td><td>-2.038255   </td></tr>\n",
       "\t<tr><td>breathe     </td><td>0.0006375112</td><td>0.0001552072</td><td>-2.038255   </td></tr>\n",
       "\t<tr><td>cars        </td><td>0.0006375112</td><td>0.0001552072</td><td>-2.038255   </td></tr>\n",
       "\t<tr><td>designer    </td><td>0.0006375112</td><td>0.0001552072</td><td>-2.038255   </td></tr>\n",
       "\t<tr><td>dirt        </td><td>0.0006375112</td><td>0.0001552072</td><td>-2.038255   </td></tr>\n",
       "\t<tr><td>everyday    </td><td>0.0006375112</td><td>0.0001552072</td><td>-2.038255   </td></tr>\n",
       "\t<tr><td>flexin      </td><td>0.0006375112</td><td>0.0001552072</td><td>-2.038255   </td></tr>\n",
       "\t<tr><td>moon        </td><td>0.0006375112</td><td>0.0001552072</td><td>-2.038255   </td></tr>\n",
       "\t<tr><td>panties     </td><td>0.0006375112</td><td>0.0001552072</td><td>-2.038255   </td></tr>\n",
       "\t<tr><td>pipe        </td><td>0.0006375112</td><td>0.0001552072</td><td>-2.038255   </td></tr>\n",
       "\t<tr><td>shoes       </td><td>0.0006375112</td><td>0.0001552072</td><td>-2.038255   </td></tr>\n",
       "\t<tr><td>slide       </td><td>0.0006375112</td><td>0.0001552072</td><td>-2.038255   </td></tr>\n",
       "\t<tr><td>whip        </td><td>0.0006375112</td><td>0.0001552072</td><td>-2.038255   </td></tr>\n",
       "\t<tr><td>dream       </td><td>0.0007650134</td><td>0.0001552072</td><td>-2.301289   </td></tr>\n",
       "\t<tr><td>poppin      </td><td>0.0007650134</td><td>0.0001552072</td><td>-2.301289   </td></tr>\n",
       "\t<tr><td>rest        </td><td>0.0007650134</td><td>0.0001552072</td><td>-2.301289   </td></tr>\n",
       "\t<tr><td>teeth       </td><td>0.0007650134</td><td>0.0001552072</td><td>-2.301289   </td></tr>\n",
       "\t<tr><td>thinking    </td><td>0.0007650134</td><td>0.0001552072</td><td>-2.301289   </td></tr>\n",
       "\t<tr><td>true        </td><td>0.0007650134</td><td>0.0001552072</td><td>-2.301289   </td></tr>\n",
       "\t<tr><td>wrote       </td><td>0.0007650134</td><td>0.0001552072</td><td>-2.301289   </td></tr>\n",
       "\t<tr><td>lit         </td><td>0.0010200179</td><td>0.0001552072</td><td>-2.716327   </td></tr>\n",
       "\t<tr><td>pretty      </td><td>0.0010200179</td><td>0.0001552072</td><td>-2.716327   </td></tr>\n",
       "</tbody>\n",
       "</table>\n"
      ],
      "text/latex": [
       "\\begin{tabular}{r|llll}\n",
       " word & False & True & logratio\\\\\n",
       "\\hline\n",
       "\t phone           & 0.0001275022    & 0.0010864504    & 3.091028       \\\\\n",
       "\t changed         & 0.0001275022    & 0.0006208288    & 2.283673       \\\\\n",
       "\t graduated       & 0.0001275022    & 0.0006208288    & 2.283673       \\\\\n",
       "\t hah             & 0.0001275022    & 0.0006208288    & 2.283673       \\\\\n",
       "\t lives           & 0.0001275022    & 0.0006208288    & 2.283673       \\\\\n",
       "\t one's           & 0.0001275022    & 0.0006208288    & 2.283673       \\\\\n",
       "\t respect         & 0.0001275022    & 0.0006208288    & 2.283673       \\\\\n",
       "\t shooters        & 0.0001275022    & 0.0006208288    & 2.283673       \\\\\n",
       "\t smoking         & 0.0001275022    & 0.0006208288    & 2.283673       \\\\\n",
       "\t strip           & 0.0001275022    & 0.0006208288    & 2.283673       \\\\\n",
       "\t sucker          & 0.0001275022    & 0.0006208288    & 2.283673       \\\\\n",
       "\t waiting         & 0.0001275022    & 0.0006208288    & 2.283673       \\\\\n",
       "\t wishin          & 0.0001275022    & 0.0006208288    & 2.283673       \\\\\n",
       "\t skrrt           & 0.0002550045    & 0.0010864504    & 2.091028       \\\\\n",
       "\t answers         & 0.0001275022    & 0.0004656216    & 1.868636       \\\\\n",
       "\t bih             & 0.0001275022    & 0.0004656216    & 1.868636       \\\\\n",
       "\t blunt           & 0.0001275022    & 0.0004656216    & 1.868636       \\\\\n",
       "\t bricks          & 0.0001275022    & 0.0004656216    & 1.868636       \\\\\n",
       "\t callin          & 0.0001275022    & 0.0004656216    & 1.868636       \\\\\n",
       "\t chicken         & 0.0001275022    & 0.0004656216    & 1.868636       \\\\\n",
       "\t clip            & 0.0001275022    & 0.0004656216    & 1.868636       \\\\\n",
       "\t codeine         & 0.0001275022    & 0.0004656216    & 1.868636       \\\\\n",
       "\t condo           & 0.0001275022    & 0.0004656216    & 1.868636       \\\\\n",
       "\t congratulations & 0.0001275022    & 0.0004656216    & 1.868636       \\\\\n",
       "\t court           & 0.0001275022    & 0.0004656216    & 1.868636       \\\\\n",
       "\t crime           & 0.0001275022    & 0.0004656216    & 1.868636       \\\\\n",
       "\t da              & 0.0001275022    & 0.0004656216    & 1.868636       \\\\\n",
       "\t date            & 0.0001275022    & 0.0004656216    & 1.868636       \\\\\n",
       "\t devil           & 0.0001275022    & 0.0004656216    & 1.868636       \\\\\n",
       "\t disaster        & 0.0001275022    & 0.0004656216    & 1.868636       \\\\\n",
       "\t ... & ... & ... & ...\\\\\n",
       "\t started      & 0.0005100089 & 0.0001552072 & -1.716327   \\\\\n",
       "\t staying      & 0.0005100089 & 0.0001552072 & -1.716327   \\\\\n",
       "\t throwing     & 0.0005100089 & 0.0001552072 & -1.716327   \\\\\n",
       "\t thunder      & 0.0005100089 & 0.0001552072 & -1.716327   \\\\\n",
       "\t tongue       & 0.0005100089 & 0.0001552072 & -1.716327   \\\\\n",
       "\t walked       & 0.0005100089 & 0.0001552072 & -1.716327   \\\\\n",
       "\t worst        & 0.0005100089 & 0.0001552072 & -1.716327   \\\\\n",
       "\t would've     & 0.0005100089 & 0.0001552072 & -1.716327   \\\\\n",
       "\t bite         & 0.0006375112 & 0.0001552072 & -2.038255   \\\\\n",
       "\t breathe      & 0.0006375112 & 0.0001552072 & -2.038255   \\\\\n",
       "\t cars         & 0.0006375112 & 0.0001552072 & -2.038255   \\\\\n",
       "\t designer     & 0.0006375112 & 0.0001552072 & -2.038255   \\\\\n",
       "\t dirt         & 0.0006375112 & 0.0001552072 & -2.038255   \\\\\n",
       "\t everyday     & 0.0006375112 & 0.0001552072 & -2.038255   \\\\\n",
       "\t flexin       & 0.0006375112 & 0.0001552072 & -2.038255   \\\\\n",
       "\t moon         & 0.0006375112 & 0.0001552072 & -2.038255   \\\\\n",
       "\t panties      & 0.0006375112 & 0.0001552072 & -2.038255   \\\\\n",
       "\t pipe         & 0.0006375112 & 0.0001552072 & -2.038255   \\\\\n",
       "\t shoes        & 0.0006375112 & 0.0001552072 & -2.038255   \\\\\n",
       "\t slide        & 0.0006375112 & 0.0001552072 & -2.038255   \\\\\n",
       "\t whip         & 0.0006375112 & 0.0001552072 & -2.038255   \\\\\n",
       "\t dream        & 0.0007650134 & 0.0001552072 & -2.301289   \\\\\n",
       "\t poppin       & 0.0007650134 & 0.0001552072 & -2.301289   \\\\\n",
       "\t rest         & 0.0007650134 & 0.0001552072 & -2.301289   \\\\\n",
       "\t teeth        & 0.0007650134 & 0.0001552072 & -2.301289   \\\\\n",
       "\t thinking     & 0.0007650134 & 0.0001552072 & -2.301289   \\\\\n",
       "\t true         & 0.0007650134 & 0.0001552072 & -2.301289   \\\\\n",
       "\t wrote        & 0.0007650134 & 0.0001552072 & -2.301289   \\\\\n",
       "\t lit          & 0.0010200179 & 0.0001552072 & -2.716327   \\\\\n",
       "\t pretty       & 0.0010200179 & 0.0001552072 & -2.716327   \\\\\n",
       "\\end{tabular}\n"
      ],
      "text/markdown": [
       "\n",
       "word | False | True | logratio | \n",
       "|---|---|---|---|---|---|---|---|---|---|---|---|---|---|---|---|---|---|---|---|---|---|---|---|---|---|---|---|---|---|---|---|---|---|---|---|---|---|---|---|---|---|---|---|---|---|---|---|---|---|---|---|---|---|---|---|---|---|---|---|---|\n",
       "| phone           | 0.0001275022    | 0.0010864504    | 3.091028        | \n",
       "| changed         | 0.0001275022    | 0.0006208288    | 2.283673        | \n",
       "| graduated       | 0.0001275022    | 0.0006208288    | 2.283673        | \n",
       "| hah             | 0.0001275022    | 0.0006208288    | 2.283673        | \n",
       "| lives           | 0.0001275022    | 0.0006208288    | 2.283673        | \n",
       "| one's           | 0.0001275022    | 0.0006208288    | 2.283673        | \n",
       "| respect         | 0.0001275022    | 0.0006208288    | 2.283673        | \n",
       "| shooters        | 0.0001275022    | 0.0006208288    | 2.283673        | \n",
       "| smoking         | 0.0001275022    | 0.0006208288    | 2.283673        | \n",
       "| strip           | 0.0001275022    | 0.0006208288    | 2.283673        | \n",
       "| sucker          | 0.0001275022    | 0.0006208288    | 2.283673        | \n",
       "| waiting         | 0.0001275022    | 0.0006208288    | 2.283673        | \n",
       "| wishin          | 0.0001275022    | 0.0006208288    | 2.283673        | \n",
       "| skrrt           | 0.0002550045    | 0.0010864504    | 2.091028        | \n",
       "| answers         | 0.0001275022    | 0.0004656216    | 1.868636        | \n",
       "| bih             | 0.0001275022    | 0.0004656216    | 1.868636        | \n",
       "| blunt           | 0.0001275022    | 0.0004656216    | 1.868636        | \n",
       "| bricks          | 0.0001275022    | 0.0004656216    | 1.868636        | \n",
       "| callin          | 0.0001275022    | 0.0004656216    | 1.868636        | \n",
       "| chicken         | 0.0001275022    | 0.0004656216    | 1.868636        | \n",
       "| clip            | 0.0001275022    | 0.0004656216    | 1.868636        | \n",
       "| codeine         | 0.0001275022    | 0.0004656216    | 1.868636        | \n",
       "| condo           | 0.0001275022    | 0.0004656216    | 1.868636        | \n",
       "| congratulations | 0.0001275022    | 0.0004656216    | 1.868636        | \n",
       "| court           | 0.0001275022    | 0.0004656216    | 1.868636        | \n",
       "| crime           | 0.0001275022    | 0.0004656216    | 1.868636        | \n",
       "| da              | 0.0001275022    | 0.0004656216    | 1.868636        | \n",
       "| date            | 0.0001275022    | 0.0004656216    | 1.868636        | \n",
       "| devil           | 0.0001275022    | 0.0004656216    | 1.868636        | \n",
       "| disaster        | 0.0001275022    | 0.0004656216    | 1.868636        | \n",
       "| ... | ... | ... | ... | \n",
       "| started      | 0.0005100089 | 0.0001552072 | -1.716327    | \n",
       "| staying      | 0.0005100089 | 0.0001552072 | -1.716327    | \n",
       "| throwing     | 0.0005100089 | 0.0001552072 | -1.716327    | \n",
       "| thunder      | 0.0005100089 | 0.0001552072 | -1.716327    | \n",
       "| tongue       | 0.0005100089 | 0.0001552072 | -1.716327    | \n",
       "| walked       | 0.0005100089 | 0.0001552072 | -1.716327    | \n",
       "| worst        | 0.0005100089 | 0.0001552072 | -1.716327    | \n",
       "| would've     | 0.0005100089 | 0.0001552072 | -1.716327    | \n",
       "| bite         | 0.0006375112 | 0.0001552072 | -2.038255    | \n",
       "| breathe      | 0.0006375112 | 0.0001552072 | -2.038255    | \n",
       "| cars         | 0.0006375112 | 0.0001552072 | -2.038255    | \n",
       "| designer     | 0.0006375112 | 0.0001552072 | -2.038255    | \n",
       "| dirt         | 0.0006375112 | 0.0001552072 | -2.038255    | \n",
       "| everyday     | 0.0006375112 | 0.0001552072 | -2.038255    | \n",
       "| flexin       | 0.0006375112 | 0.0001552072 | -2.038255    | \n",
       "| moon         | 0.0006375112 | 0.0001552072 | -2.038255    | \n",
       "| panties      | 0.0006375112 | 0.0001552072 | -2.038255    | \n",
       "| pipe         | 0.0006375112 | 0.0001552072 | -2.038255    | \n",
       "| shoes        | 0.0006375112 | 0.0001552072 | -2.038255    | \n",
       "| slide        | 0.0006375112 | 0.0001552072 | -2.038255    | \n",
       "| whip         | 0.0006375112 | 0.0001552072 | -2.038255    | \n",
       "| dream        | 0.0007650134 | 0.0001552072 | -2.301289    | \n",
       "| poppin       | 0.0007650134 | 0.0001552072 | -2.301289    | \n",
       "| rest         | 0.0007650134 | 0.0001552072 | -2.301289    | \n",
       "| teeth        | 0.0007650134 | 0.0001552072 | -2.301289    | \n",
       "| thinking     | 0.0007650134 | 0.0001552072 | -2.301289    | \n",
       "| true         | 0.0007650134 | 0.0001552072 | -2.301289    | \n",
       "| wrote        | 0.0007650134 | 0.0001552072 | -2.301289    | \n",
       "| lit          | 0.0010200179 | 0.0001552072 | -2.716327    | \n",
       "| pretty       | 0.0010200179 | 0.0001552072 | -2.716327    | \n",
       "\n",
       "\n"
      ],
      "text/plain": [
       "     word            False        True         logratio \n",
       "1    phone           0.0001275022 0.0010864504 3.091028 \n",
       "2    changed         0.0001275022 0.0006208288 2.283673 \n",
       "3    graduated       0.0001275022 0.0006208288 2.283673 \n",
       "4    hah             0.0001275022 0.0006208288 2.283673 \n",
       "5    lives           0.0001275022 0.0006208288 2.283673 \n",
       "6    one's           0.0001275022 0.0006208288 2.283673 \n",
       "7    respect         0.0001275022 0.0006208288 2.283673 \n",
       "8    shooters        0.0001275022 0.0006208288 2.283673 \n",
       "9    smoking         0.0001275022 0.0006208288 2.283673 \n",
       "10   strip           0.0001275022 0.0006208288 2.283673 \n",
       "11   sucker          0.0001275022 0.0006208288 2.283673 \n",
       "12   waiting         0.0001275022 0.0006208288 2.283673 \n",
       "13   wishin          0.0001275022 0.0006208288 2.283673 \n",
       "14   skrrt           0.0002550045 0.0010864504 2.091028 \n",
       "15   answers         0.0001275022 0.0004656216 1.868636 \n",
       "16   bih             0.0001275022 0.0004656216 1.868636 \n",
       "17   blunt           0.0001275022 0.0004656216 1.868636 \n",
       "18   bricks          0.0001275022 0.0004656216 1.868636 \n",
       "19   callin          0.0001275022 0.0004656216 1.868636 \n",
       "20   chicken         0.0001275022 0.0004656216 1.868636 \n",
       "21   clip            0.0001275022 0.0004656216 1.868636 \n",
       "22   codeine         0.0001275022 0.0004656216 1.868636 \n",
       "23   condo           0.0001275022 0.0004656216 1.868636 \n",
       "24   congratulations 0.0001275022 0.0004656216 1.868636 \n",
       "25   court           0.0001275022 0.0004656216 1.868636 \n",
       "26   crime           0.0001275022 0.0004656216 1.868636 \n",
       "27   da              0.0001275022 0.0004656216 1.868636 \n",
       "28   date            0.0001275022 0.0004656216 1.868636 \n",
       "29   devil           0.0001275022 0.0004656216 1.868636 \n",
       "30   disaster        0.0001275022 0.0004656216 1.868636 \n",
       "...  ...             ...          ...          ...      \n",
       "3401 started         0.0005100089 0.0001552072 -1.716327\n",
       "3402 staying         0.0005100089 0.0001552072 -1.716327\n",
       "3403 throwing        0.0005100089 0.0001552072 -1.716327\n",
       "3404 thunder         0.0005100089 0.0001552072 -1.716327\n",
       "3405 tongue          0.0005100089 0.0001552072 -1.716327\n",
       "3406 walked          0.0005100089 0.0001552072 -1.716327\n",
       "3407 worst           0.0005100089 0.0001552072 -1.716327\n",
       "3408 would've        0.0005100089 0.0001552072 -1.716327\n",
       "3409 bite            0.0006375112 0.0001552072 -2.038255\n",
       "3410 breathe         0.0006375112 0.0001552072 -2.038255\n",
       "3411 cars            0.0006375112 0.0001552072 -2.038255\n",
       "3412 designer        0.0006375112 0.0001552072 -2.038255\n",
       "3413 dirt            0.0006375112 0.0001552072 -2.038255\n",
       "3414 everyday        0.0006375112 0.0001552072 -2.038255\n",
       "3415 flexin          0.0006375112 0.0001552072 -2.038255\n",
       "3416 moon            0.0006375112 0.0001552072 -2.038255\n",
       "3417 panties         0.0006375112 0.0001552072 -2.038255\n",
       "3418 pipe            0.0006375112 0.0001552072 -2.038255\n",
       "3419 shoes           0.0006375112 0.0001552072 -2.038255\n",
       "3420 slide           0.0006375112 0.0001552072 -2.038255\n",
       "3421 whip            0.0006375112 0.0001552072 -2.038255\n",
       "3422 dream           0.0007650134 0.0001552072 -2.301289\n",
       "3423 poppin          0.0007650134 0.0001552072 -2.301289\n",
       "3424 rest            0.0007650134 0.0001552072 -2.301289\n",
       "3425 teeth           0.0007650134 0.0001552072 -2.301289\n",
       "3426 thinking        0.0007650134 0.0001552072 -2.301289\n",
       "3427 true            0.0007650134 0.0001552072 -2.301289\n",
       "3428 wrote           0.0007650134 0.0001552072 -2.301289\n",
       "3429 lit             0.0010200179 0.0001552072 -2.716327\n",
       "3430 pretty          0.0010200179 0.0001552072 -2.716327"
      ]
     },
     "metadata": {},
     "output_type": "display_data"
    }
   ],
   "source": [
    "ratios"
   ]
  },
  {
   "cell_type": "markdown",
   "metadata": {},
   "source": [
    "More positive ratios indicate the word appears in many more songs with songwriters than in songs without songwriters"
   ]
  },
  {
   "cell_type": "markdown",
   "metadata": {},
   "source": [
    "## Sentiment Analysis"
   ]
  },
  {
   "cell_type": "markdown",
   "metadata": {},
   "source": [
    "## Latent Dirichlet Allocation"
   ]
  },
  {
   "cell_type": "code",
   "execution_count": 98,
   "metadata": {},
   "outputs": [
    {
     "data": {
      "text/html": [
       "<table>\n",
       "<thead><tr><th scope=col>Artists</th><th scope=col>Name</th><th scope=col>Rank</th><th scope=col>Date</th><th scope=col>Genre</th><th scope=col>Writing.Credits</th><th scope=col>Songwriter</th><th scope=col>word</th></tr></thead>\n",
       "<tbody>\n",
       "\t<tr><td>21 Savage                                                                   </td><td>Bank Account                                                                </td><td>48                                                                          </td><td>7-Jul-17                                                                    </td><td><span style=white-space:pre-wrap> Memes , Epic Records , Trap , Rap  </span></td><td>Metro Boomin &amp; 21 Savage                                                </td><td>True                                                                        </td><td><span style=white-space:pre-wrap>bank   </span>                             </td></tr>\n",
       "\t<tr><td>21 Savage                                                                   </td><td>Bank Account                                                                </td><td>48                                                                          </td><td>7-Jul-17                                                                    </td><td><span style=white-space:pre-wrap> Memes , Epic Records , Trap , Rap  </span></td><td>Metro Boomin &amp; 21 Savage                                                </td><td>True                                                                        </td><td>account                                                                     </td></tr>\n",
       "\t<tr><td>21 Savage                                                                   </td><td>Bank Account                                                                </td><td>48                                                                          </td><td>7-Jul-17                                                                    </td><td><span style=white-space:pre-wrap> Memes , Epic Records , Trap , Rap  </span></td><td>Metro Boomin &amp; 21 Savage                                                </td><td>True                                                                        </td><td><span style=white-space:pre-wrap>buy    </span>                             </td></tr>\n",
       "\t<tr><td>21 Savage                                                                   </td><td>Bank Account                                                                </td><td>48                                                                          </td><td>7-Jul-17                                                                    </td><td><span style=white-space:pre-wrap> Memes , Epic Records , Trap , Rap  </span></td><td>Metro Boomin &amp; 21 Savage                                                </td><td>True                                                                        </td><td><span style=white-space:pre-wrap>car    </span>                             </td></tr>\n",
       "\t<tr><td>21 Savage                                                                   </td><td>Bank Account                                                                </td><td>48                                                                          </td><td>7-Jul-17                                                                    </td><td><span style=white-space:pre-wrap> Memes , Epic Records , Trap , Rap  </span></td><td>Metro Boomin &amp; 21 Savage                                                </td><td>True                                                                        </td><td><span style=white-space:pre-wrap>bitch  </span>                             </td></tr>\n",
       "\t<tr><td>21 Savage                                                                   </td><td>Bank Account                                                                </td><td>48                                                                          </td><td>7-Jul-17                                                                    </td><td><span style=white-space:pre-wrap> Memes , Epic Records , Trap , Rap  </span></td><td>Metro Boomin &amp; 21 Savage                                                </td><td>True                                                                        </td><td><span style=white-space:pre-wrap>real   </span>                             </td></tr>\n",
       "</tbody>\n",
       "</table>\n"
      ],
      "text/latex": [
       "\\begin{tabular}{r|llllllll}\n",
       " Artists & Name & Rank & Date & Genre & Writing.Credits & Songwriter & word\\\\\n",
       "\\hline\n",
       "\t 21 Savage                            & Bank Account                         & 48                                   & 7-Jul-17                             &  Memes , Epic Records , Trap , Rap   & Metro Boomin \\& 21 Savage           & True                                 & bank                                \\\\\n",
       "\t 21 Savage                            & Bank Account                         & 48                                   & 7-Jul-17                             &  Memes , Epic Records , Trap , Rap   & Metro Boomin \\& 21 Savage           & True                                 & account                             \\\\\n",
       "\t 21 Savage                            & Bank Account                         & 48                                   & 7-Jul-17                             &  Memes , Epic Records , Trap , Rap   & Metro Boomin \\& 21 Savage           & True                                 & buy                                 \\\\\n",
       "\t 21 Savage                            & Bank Account                         & 48                                   & 7-Jul-17                             &  Memes , Epic Records , Trap , Rap   & Metro Boomin \\& 21 Savage           & True                                 & car                                 \\\\\n",
       "\t 21 Savage                            & Bank Account                         & 48                                   & 7-Jul-17                             &  Memes , Epic Records , Trap , Rap   & Metro Boomin \\& 21 Savage           & True                                 & bitch                               \\\\\n",
       "\t 21 Savage                            & Bank Account                         & 48                                   & 7-Jul-17                             &  Memes , Epic Records , Trap , Rap   & Metro Boomin \\& 21 Savage           & True                                 & real                                \\\\\n",
       "\\end{tabular}\n"
      ],
      "text/markdown": [
       "\n",
       "Artists | Name | Rank | Date | Genre | Writing.Credits | Songwriter | word | \n",
       "|---|---|---|---|---|---|\n",
       "| 21 Savage                            | Bank Account                         | 48                                   | 7-Jul-17                             |  Memes , Epic Records , Trap , Rap   | Metro Boomin & 21 Savage             | True                                 | bank                                 | \n",
       "| 21 Savage                            | Bank Account                         | 48                                   | 7-Jul-17                             |  Memes , Epic Records , Trap , Rap   | Metro Boomin & 21 Savage             | True                                 | account                              | \n",
       "| 21 Savage                            | Bank Account                         | 48                                   | 7-Jul-17                             |  Memes , Epic Records , Trap , Rap   | Metro Boomin & 21 Savage             | True                                 | buy                                  | \n",
       "| 21 Savage                            | Bank Account                         | 48                                   | 7-Jul-17                             |  Memes , Epic Records , Trap , Rap   | Metro Boomin & 21 Savage             | True                                 | car                                  | \n",
       "| 21 Savage                            | Bank Account                         | 48                                   | 7-Jul-17                             |  Memes , Epic Records , Trap , Rap   | Metro Boomin & 21 Savage             | True                                 | bitch                                | \n",
       "| 21 Savage                            | Bank Account                         | 48                                   | 7-Jul-17                             |  Memes , Epic Records , Trap , Rap   | Metro Boomin & 21 Savage             | True                                 | real                                 | \n",
       "\n",
       "\n"
      ],
      "text/plain": [
       "  Artists   Name         Rank Date     Genre                               \n",
       "1 21 Savage Bank Account 48   7-Jul-17  Memes , Epic Records , Trap , Rap  \n",
       "2 21 Savage Bank Account 48   7-Jul-17  Memes , Epic Records , Trap , Rap  \n",
       "3 21 Savage Bank Account 48   7-Jul-17  Memes , Epic Records , Trap , Rap  \n",
       "4 21 Savage Bank Account 48   7-Jul-17  Memes , Epic Records , Trap , Rap  \n",
       "5 21 Savage Bank Account 48   7-Jul-17  Memes , Epic Records , Trap , Rap  \n",
       "6 21 Savage Bank Account 48   7-Jul-17  Memes , Epic Records , Trap , Rap  \n",
       "  Writing.Credits          Songwriter word   \n",
       "1 Metro Boomin & 21 Savage True       bank   \n",
       "2 Metro Boomin & 21 Savage True       account\n",
       "3 Metro Boomin & 21 Savage True       buy    \n",
       "4 Metro Boomin & 21 Savage True       car    \n",
       "5 Metro Boomin & 21 Savage True       bitch  \n",
       "6 Metro Boomin & 21 Savage True       real   "
      ]
     },
     "metadata": {},
     "output_type": "display_data"
    }
   ],
   "source": [
    "head(df_words)"
   ]
  },
  {
   "cell_type": "code",
   "execution_count": 105,
   "metadata": {},
   "outputs": [
    {
     "name": "stderr",
     "output_type": "stream",
     "text": [
      "Warning message:\n",
      "\"Trying to compute distinct() for variables not found in the data:\n",
      "- `row_col`, `column_col`\n",
      "This is an error, but only a warning is raised for compatibility reasons.\n",
      "The operation will return the input unchanged.\""
     ]
    }
   ],
   "source": [
    "word_counts <- df_words %>%\n",
    "    count(Name, word, sort = TRUE) %>%\n",
    "    ungroup() %>% # do we need this?\n",
    "    cast_dtm(Name, word, n)"
   ]
  },
  {
   "cell_type": "code",
   "execution_count": 142,
   "metadata": {},
   "outputs": [
    {
     "data": {},
     "metadata": {},
     "output_type": "display_data"
    },
    {
     "data": {
      "image/png": "[encoded data removed]",
      "text/plain": [
       "plot without title"
      ]
     },
     "metadata": {},
     "output_type": "display_data"
    }
   ],
   "source": [
    "# create LDA object\n",
    "songs_lda <- LDA(word_counts, k = 2, control = list(seed = 0))\n",
    "topics <- tidy(songs_lda, matrix = \"beta\")\n",
    "    \n",
    "# visualize\n",
    "ap_top_terms <- topics %>%\n",
    "    group_by(topic) %>%\n",
    "    top_n(40, beta) %>%\n",
    "    ungroup() %>%\n",
    "    arrange(topic, -beta)\n",
    "    \n",
    "ap_top_terms %>%\n",
    "    mutate(term = reorder(term, beta)) %>%\n",
    "    ggplot(aes(term, beta, fill = factor(topic))) +\n",
    "    geom_col(show.legend = FALSE) +\n",
    "    facet_wrap(~ topic, scales = \"free\") + # partition by topic\n",
    "    coord_flip()"
   ]
  },
  {
   "cell_type": "code",
   "execution_count": null,
   "metadata": {
    "collapsed": true
   },
   "outputs": [],
   "source": []
  }
 ],
 "metadata": {
  "kernelspec": {
   "display_name": "R",
   "language": "R",
   "name": "ir"
  },
  "language_info": {
   "codemirror_mode": "r",
   "file_extension": ".r",
   "mimetype": "text/x-r-source",
   "name": "R",
   "pygments_lexer": "r",
   "version": "3.5.1"
  }
 },
 "nbformat": 4,
 "nbformat_minor": 2
}
