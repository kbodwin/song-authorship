{
 "cells": [
  {
   "cell_type": "markdown",
   "metadata": {},
   "source": [
    "In this notebook, we clean the lyrics and add a column indicating whether an external songwriter is credited."
   ]
  },
  {
   "cell_type": "code",
   "execution_count": 135,
   "metadata": {
    "collapsed": true
   },
   "outputs": [],
   "source": [
    "import re\n",
    "import pandas as pd\n",
    "import numpy as np\n",
    "import csv\n",
    "import json\n",
    "import os"
   ]
  },
  {
   "cell_type": "code",
   "execution_count": 136,
   "metadata": {
    "collapsed": true
   },
   "outputs": [],
   "source": [
    "library = \"C:\\\\Users\\\\liblabs-user\\\\Desktop\\\\song-authorship\\\\data\"\n",
    "laptop = \"not yet\"\n",
    "desktop = \"not yet\""
   ]
  },
  {
   "cell_type": "code",
   "execution_count": 137,
   "metadata": {
    "collapsed": true
   },
   "outputs": [],
   "source": [
    "os.chdir(library)"
   ]
  },
  {
   "cell_type": "markdown",
   "metadata": {},
   "source": [
    "After manually adding all credited writers, `pandas` didn't open the csv file. We opted for `csv.reader`"
   ]
  },
  {
   "cell_type": "code",
   "execution_count": 175,
   "metadata": {
    "collapsed": true
   },
   "outputs": [],
   "source": [
    "arr = []\n",
    "repl = {\"(\\\"|”).+?(\\\"|”)\": \"\", \"\\s+\": \" \"}\n",
    "for f in csv.reader(open(library + \"\\\\Billboard_2017.csv\", \"r\", encoding = \"utf-8\", errors = \"backslashreplace\")):\n",
    "    arr.append(f)\n",
    "arr = np.array(arr)\n",
    "\n",
    "for i in range(1, len(arr[:, 5])):\n",
    "    for j in repl:\n",
    "        arr[i, 5] = re.sub(j, repl[j], arr[i, 5])"
   ]
  },
  {
   "cell_type": "code",
   "execution_count": 176,
   "metadata": {
    "collapsed": true
   },
   "outputs": [],
   "source": [
    "def clean_lyric(lyric):\n",
    "    \n",
    "    repl = {\"\\[.+?\\]\": \"\", \"\\s{2,}\": \"\\n\", \"lyrics\": \"\", \"\\(\": \"\", \"\\)\": \"\"}\n",
    "    \n",
    "    for i in repl:\n",
    "        lyric = re.sub(i, repl[i], lyric, flags = re.I | re.S)\n",
    "    \n",
    "    return lyric"
   ]
  },
  {
   "cell_type": "code",
   "execution_count": 177,
   "metadata": {
    "collapsed": true
   },
   "outputs": [],
   "source": [
    "#[y.strip() for x in df[\"Writing Credits\"] for y in re.split(\",\", x, flags = re.I | re.S)]"
   ]
  },
  {
   "cell_type": "code",
   "execution_count": 178,
   "metadata": {
    "collapsed": true
   },
   "outputs": [],
   "source": [
    "for i in range(1, len(arr[:, -1])):\n",
    "    arr[i, -1] = clean_lyric(arr[i, -1])\n",
    "    \n",
    "#arr = arr[:, 1:]\n",
    "\n",
    "df = pd.DataFrame({arr[0, i]: arr[1:,i] for i in range(len(arr[0,:]))})\n"
   ]
  },
  {
   "cell_type": "markdown",
   "metadata": {},
   "source": [
    "## Add songwriters"
   ]
  },
  {
   "cell_type": "code",
   "execution_count": 179,
   "metadata": {
    "collapsed": true
   },
   "outputs": [],
   "source": [
    "writers = json.load(open(library + \"\\\\composers.json\", \"r\"))"
   ]
  },
  {
   "cell_type": "code",
   "execution_count": 180,
   "metadata": {
    "collapsed": true
   },
   "outputs": [],
   "source": [
    "writers[16] = \"Mike Will Made-It\""
   ]
  },
  {
   "cell_type": "code",
   "execution_count": 181,
   "metadata": {},
   "outputs": [
    {
     "data": {
      "text/html": [
       "<div>\n",
       "<style scoped>\n",
       "    .dataframe tbody tr th:only-of-type {\n",
       "        vertical-align: middle;\n",
       "    }\n",
       "\n",
       "    .dataframe tbody tr th {\n",
       "        vertical-align: top;\n",
       "    }\n",
       "\n",
       "    .dataframe thead th {\n",
       "        text-align: right;\n",
       "    }\n",
       "</style>\n",
       "<table border=\"1\" class=\"dataframe\">\n",
       "  <thead>\n",
       "    <tr style=\"text-align: right;\">\n",
       "      <th></th>\n",
       "      <th>Artists</th>\n",
       "      <th>Name</th>\n",
       "      <th>Rank</th>\n",
       "      <th>Date</th>\n",
       "      <th>Genre</th>\n",
       "      <th>Writing Credits</th>\n",
       "      <th>Lyrics</th>\n",
       "    </tr>\n",
       "  </thead>\n",
       "  <tbody>\n",
       "    <tr>\n",
       "      <th>0</th>\n",
       "      <td>Ed Sheeran</td>\n",
       "      <td>Shape Of You</td>\n",
       "      <td>1</td>\n",
       "      <td>6-Jan-17</td>\n",
       "      <td>Atlantic Records , Tropical House , Dancehall...</td>\n",
       "      <td>Tameka Harris, Kandi, Kevin Briggs, Ed Sheeran...</td>\n",
       "      <td>Shape of You\\nThe club isn't the best place to...</td>\n",
       "    </tr>\n",
       "    <tr>\n",
       "      <th>1</th>\n",
       "      <td>Luis Fonsi, Daddy Yankee, Justin Bieber</td>\n",
       "      <td>Despacito</td>\n",
       "      <td>2</td>\n",
       "      <td>17-Apr-17</td>\n",
       "      <td>Universal Republic Records , Translation , Un...</td>\n",
       "      <td>Poo Bear, Marty James, Justin Bieber, Luis Fon...</td>\n",
       "      <td>Despacito Remix\\nComin' over in my direction\\n...</td>\n",
       "    </tr>\n",
       "    <tr>\n",
       "      <th>2</th>\n",
       "      <td>Bruno Mars</td>\n",
       "      <td>That's What I Like</td>\n",
       "      <td>3</td>\n",
       "      <td>30-Jan-16</td>\n",
       "      <td>Funk , R&amp;B  , Pop</td>\n",
       "      <td>Ray Charles McCullough II, Ray Romulus, Jeremy...</td>\n",
       "      <td>That's What I Like\\nHey, hey, hey\\nI got a con...</td>\n",
       "    </tr>\n",
       "    <tr>\n",
       "      <th>3</th>\n",
       "      <td>Kendrick Lamar</td>\n",
       "      <td>Humble.</td>\n",
       "      <td>4</td>\n",
       "      <td>30-Mar-17</td>\n",
       "      <td>Trap , Aftermath Entertainment , Interscope R...</td>\n",
       "      <td>Asheton Hogan, Mike WiLL Made-It &amp; Kendrick Lamar</td>\n",
       "      <td>HUMBLE.\\nNobody pray for me\\nIt's been that da...</td>\n",
       "    </tr>\n",
       "    <tr>\n",
       "      <th>4</th>\n",
       "      <td>The Chainsmokers, Coldplay</td>\n",
       "      <td>Something Just Like This</td>\n",
       "      <td>5</td>\n",
       "      <td>22-Feb-17</td>\n",
       "      <td>Adult Alternative , Alternative Rock , Electr...</td>\n",
       "      <td>Will Champion, Guy Berryman, Jonny Buckland, A...</td>\n",
       "      <td>Something Just Like This\\nI've been reading bo...</td>\n",
       "    </tr>\n",
       "  </tbody>\n",
       "</table>\n",
       "</div>"
      ],
      "text/plain": [
       "                                   Artists                      Name Rank  \\\n",
       "0                               Ed Sheeran              Shape Of You    1   \n",
       "1  Luis Fonsi, Daddy Yankee, Justin Bieber                 Despacito    2   \n",
       "2                               Bruno Mars        That's What I Like    3   \n",
       "3                           Kendrick Lamar                   Humble.    4   \n",
       "4               The Chainsmokers, Coldplay  Something Just Like This    5   \n",
       "\n",
       "        Date                                              Genre  \\\n",
       "0   6-Jan-17   Atlantic Records , Tropical House , Dancehall...   \n",
       "1  17-Apr-17   Universal Republic Records , Translation , Un...   \n",
       "2  30-Jan-16                                Funk , R&B  , Pop     \n",
       "3  30-Mar-17   Trap , Aftermath Entertainment , Interscope R...   \n",
       "4  22-Feb-17   Adult Alternative , Alternative Rock , Electr...   \n",
       "\n",
       "                                     Writing Credits  \\\n",
       "0  Tameka Harris, Kandi, Kevin Briggs, Ed Sheeran...   \n",
       "1  Poo Bear, Marty James, Justin Bieber, Luis Fon...   \n",
       "2  Ray Charles McCullough II, Ray Romulus, Jeremy...   \n",
       "3  Asheton Hogan, Mike WiLL Made-It & Kendrick Lamar   \n",
       "4  Will Champion, Guy Berryman, Jonny Buckland, A...   \n",
       "\n",
       "                                              Lyrics  \n",
       "0  Shape of You\\nThe club isn't the best place to...  \n",
       "1  Despacito Remix\\nComin' over in my direction\\n...  \n",
       "2  That's What I Like\\nHey, hey, hey\\nI got a con...  \n",
       "3  HUMBLE.\\nNobody pray for me\\nIt's been that da...  \n",
       "4  Something Just Like This\\nI've been reading bo...  "
      ]
     },
     "execution_count": 181,
     "metadata": {},
     "output_type": "execute_result"
    }
   ],
   "source": [
    "df.head()"
   ]
  },
  {
   "cell_type": "code",
   "execution_count": 182,
   "metadata": {},
   "outputs": [
    {
     "data": {
      "text/plain": [
       "'Tameka Harris, Kandi, Kevin Briggs, Ed Sheeran, Johnny McDaid & Steve Mac'"
      ]
     },
     "execution_count": 182,
     "metadata": {},
     "output_type": "execute_result"
    }
   ],
   "source": [
    "df.loc[0, \"Writing Credits\"]"
   ]
  },
  {
   "cell_type": "code",
   "execution_count": 199,
   "metadata": {
    "collapsed": true
   },
   "outputs": [],
   "source": [
    "composers = []\n",
    "for i in range(len(df)):\n",
    "    for j in writers:\n",
    "        if re.search(j, df.loc[i, \"Writing Credits\"], flags = re.I | re.S) is not None:\n",
    "            composers.append(True)\n",
    "            break\n",
    "    else:\n",
    "        composers.append(False)"
   ]
  },
  {
   "cell_type": "code",
   "execution_count": 201,
   "metadata": {
    "collapsed": true
   },
   "outputs": [],
   "source": [
    "df[\"Songwriter\"] = np.array(composers)\n",
    "df.to_csv(\"Billboard_2017.csv\", index = False)"
   ]
  }
 ],
 "metadata": {
  "kernelspec": {
   "display_name": "Python 3",
   "language": "python",
   "name": "python3"
  },
  "language_info": {
   "codemirror_mode": {
    "name": "ipython",
    "version": 3
   },
   "file_extension": ".py",
   "mimetype": "text/x-python",
   "name": "python",
   "nbconvert_exporter": "python",
   "pygments_lexer": "ipython3",
   "version": "3.6.2"
  }
 },
 "nbformat": 4,
 "nbformat_minor": 2
}
