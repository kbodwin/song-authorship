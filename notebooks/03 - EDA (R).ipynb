{
 "cells": [
  {
   "cell_type": "markdown",
   "metadata": {},
   "source": [
    "# EDA\n",
    "#### Charlie Liou\n",
    "\n",
    "Let's first use the word \"Robotic\" to refer to songs where an external songwriter was credited.\n",
    "In this notebook, we do several exploratory analyses:\n",
    "\n",
    "- Log-odds ratio of words in robotic songs and words in non-robotic songs\n",
    "- Sentiment analysis between robotic and non-robotic songs\n",
    "- Latent Dirichlet Allocation, unsupervised\n",
    "- Word2Vec (when I figure out how to use Rtools with 3.5.1)\n",
    " - meanwhile, got a Python analysis going"
   ]
  },
  {
   "cell_type": "code",
   "execution_count": 4,
   "metadata": {
    "scrolled": true
   },
   "outputs": [],
   "source": [
    "# install.packages(\"magrittr\")\n",
    "# install.packages(\"tidytext\")\n",
    "# install.packages(\"ggplot2\")\n",
    "# install.packages(\"tm\")\n",
    "# install.packages(\"topicmodels\")\n",
    "# install.packages(\"broom\")\n",
    "# install.packages(\"devtools\")\n",
    "# devtools::install_github(\"bmschmidt/wordVectors\") \n",
    "# Rtools not compatible w/ 3.5.1, MAJOR RIP\n",
    "\n",
    "library(purrr)\n",
    "library(magrittr)\n",
    "library(tidyr)\n",
    "library(tidytext)\n",
    "library(dplyr)\n",
    "library(stringr)\n",
    "library(ggplot2)\n",
    "library(tm)\n",
    "library(topicmodels)\n",
    "library(broom)\n"
   ]
  },
  {
   "cell_type": "code",
   "execution_count": 6,
   "metadata": {
    "collapsed": true
   },
   "outputs": [],
   "source": [
    "library = \"C:\\\\Users\\\\liblabs-user\\\\Desktop\\\\song-authorship\\\\data\"\n",
    "laptop = \"not yet\"\n",
    "desktop = \"C:\\\\Users\\\\Sam\\\\Desktop\\\\song authorship\\\\data\""
   ]
  },
  {
   "cell_type": "code",
   "execution_count": 7,
   "metadata": {
    "collapsed": true
   },
   "outputs": [],
   "source": [
    "df <- read.csv(\n",
    "    paste(desktop, \"\\\\Billboard_2017.csv\", sep = \"\"),\n",
    "    encoding = \"UTF-8\",\n",
    "    stringsAsFactors = FALSE)"
   ]
  },
  {
   "cell_type": "markdown",
   "metadata": {},
   "source": [
    "\\# of songs word appears in vs # of appearances  (song coverage)\n",
    "Punctuation, etc in cleaning\n",
    "\n",
    "\n",
    "To-Do list:\n",
    "Charlie:\n",
    "- Transition to R\n",
    "- Log-odds with song counts instead of word counts **done**\n",
    "- Sentiment analysis  (see Drobinson)\n",
    "- Latent Dirichlet\n",
    "- Surprise me?\n",
    "- N-grams\n",
    "- Refer to 7/20 notes\n"
   ]
  },
  {
   "cell_type": "markdown",
   "metadata": {},
   "source": [
    "#### Personal notes\n",
    "\n",
    "- `str_detect`\n",
    " - checks whether a token is in the string\n",
    " \n",
    " \n",
    "- `str_replace_all(word, regex to replace, token to replace with)`\n",
    " - equiv to re.sub\n",
    " \n",
    " \n",
    "- `unnest_wokens(word, text)`\n",
    " - word: output column name\n",
    " - text: input column that the text comes from\n",
    " \n",
    " \n",
    "- `spread(key, value)`\n",
    " - takes key, all possible values and creates columns out of the values.\n",
    " - nice function"
   ]
  },
  {
   "cell_type": "code",
   "execution_count": 8,
   "metadata": {
    "collapsed": true
   },
   "outputs": [],
   "source": [
    "reg <- \"([^A-Za-z\\\\d#@']+|'[^A-Za-z\\\\d#@]+)\"\n",
    "\n",
    "df_words <- df %>%\n",
    "    unnest_tokens(word, Lyrics, token = \"regex\", pattern = reg, collapse = TRUE) %>%\n",
    "    filter(!word %in% stop_words$word, \n",
    "           str_detect(word, \"[a-z]\"))"
   ]
  },
  {
   "cell_type": "markdown",
   "metadata": {},
   "source": [
    "## Log-Odds"
   ]
  },
  {
   "cell_type": "markdown",
   "metadata": {},
   "source": [
    "The log odds ratio for each word is calculated as\n",
    "\n",
    "$$\\log_2\\left(\\frac{\\frac{\\text{# in robotic}}{\\text{Total robotic}}}{\\frac{\\text{# in non-robotic}}{\\text{Total non-robotic}}}\\right)$$\n",
    "\n",
    "This means more positive ratios indicate the word appears in many more robotic songs than non-robotic songs.\n",
    "\n",
    "We remove words with less than 9 occurences in both robotic and non-robotic songs. Should probably increase this number as we gather more data."
   ]
  },
  {
   "cell_type": "code",
   "execution_count": 9,
   "metadata": {},
   "outputs": [
    {
     "name": "stderr",
     "output_type": "stream",
     "text": [
      "`mutate_each()` is deprecated.\n",
      "Use `mutate_all()`, `mutate_at()` or `mutate_if()` instead.\n",
      "To map `funs` over a selection of variables, use `mutate_at()`\n"
     ]
    }
   ],
   "source": [
    "unique_df_words <- unique(df_words)\n",
    "\n",
    "ratios <- unique_df_words %>%\n",
    "    count(word, Songwriter) %>%\n",
    "    filter(n > 9) %>%\n",
    "    spread(Songwriter, n, fill = 0) %>%\n",
    "    ungroup() %>% #what is this used for?\n",
    "    mutate_each(funs((. + 1) / sum(. + 1)), -word) %>%\n",
    "    mutate(logratio = log2(True / False)) %>%\n",
    "    arrange(desc(logratio)) #%>%"
   ]
  },
  {
   "cell_type": "code",
   "execution_count": 10,
   "metadata": {},
   "outputs": [
    {
     "data": {},
     "metadata": {},
     "output_type": "display_data"
    },
    {
     "data": {
      "image/png": "[encoded data removed]",
      "text/plain": [
       "plot without title"
      ]
     },
     "metadata": {},
     "output_type": "display_data"
    }
   ],
   "source": [
    "rbind(ratios %>% top_n(20, logratio), ratios %>% top_n(-20, logratio)) %>%\n",
    "    mutate(word = reorder(word, logratio)) %>%\n",
    "    ggplot(aes(word, logratio)) +\n",
    "    geom_col(show.legend = FALSE) +\n",
    "    coord_flip()"
   ]
  },
  {
   "cell_type": "markdown",
   "metadata": {},
   "source": [
    "Key takeaways:\n",
    "\n",
    "- Tend to use explicit language a lot more in non-robotic songs\n",
    " - what if model overfits to this?\n",
    "- Verbs in robotic songs: play, pull, wanna, 'cause (because) stay. Less slang\n",
    "- Verbs in non-robotic songs: call, leave, tryna, gotta, gonna. More slang\n",
    "- Notice the large jumps in ratios; clearly we suffer from a bit of data sparsity.\n",
    "\n",
    "should we stem words? clearly explicit words should be stemmed"
   ]
  },
  {
   "cell_type": "markdown",
   "metadata": {},
   "source": [
    "## Sentiment Analysis"
   ]
  },
  {
   "cell_type": "code",
   "execution_count": 11,
   "metadata": {
    "collapsed": true
   },
   "outputs": [],
   "source": [
    "nrc <- sentiments %>%\n",
    "    filter(lexicon == \"nrc\") %>%\n",
    "    dplyr::select(word, sentiment)\n",
    "\n",
    "sources <- df_words %>%\n",
    "    group_by(Songwriter) %>%\n",
    "    mutate(total_words = n()) %>%\n",
    "    ungroup() %>%\n",
    "    distinct(Name, Songwriter, total_words)\n",
    "\n",
    "by_source_sentiment <- df_words %>%\n",
    "    inner_join(nrc, by = \"word\") %>%\n",
    "    count(sentiment, Name) %>%\n",
    "    ungroup() %>%\n",
    "    complete(sentiment, Name, fill = list(n = 0)) %>%\n",
    "    inner_join(sources, \"Name\") %>%\n",
    "    group_by(Songwriter, sentiment, total_words) %>%\n",
    "    summarize(words = sum(n)) %>%\n",
    "    ungroup()\n",
    "\n",
    "sentiment_diff <- by_source_sentiment %>%\n",
    "    group_by(sentiment) %>%\n",
    "    do(tidy(poisson.test(.$words, .$total_words))) %>%\n",
    "    ungroup()"
   ]
  },
  {
   "cell_type": "code",
   "execution_count": 12,
   "metadata": {},
   "outputs": [
    {
     "data": {},
     "metadata": {},
     "output_type": "display_data"
    },
    {
     "data": {
      "image/png": "[encoded data removed]",
      "text/plain": [
       "plot without title"
      ]
     },
     "metadata": {},
     "output_type": "display_data"
    }
   ],
   "source": [
    "sentiment_diff %>%\n",
    "    mutate(sentiment = reorder(sentiment, estimate)) %>%\n",
    "    ggplot(aes(sentiment, estimate)) + \n",
    "    geom_errorbar(width = .5, aes(ymin = conf.low, ymax = conf.high)) +\n",
    "    geom_point(shape = 21, size = 2.5, fill = \"white\") +\n",
    "    scale_y_continuous(\"% change in Robotic relative to non-Robotic\",\n",
    "                       breaks = c(0.6, 0.8, 1, 1.2, 1.4, 1.6),\n",
    "                       labels = c(\"-40%\", \"-20%\", \"0%\", \"20%\", \"40%\", \"60%\")) +\n",
    "    coord_flip()"
   ]
  },
  {
   "cell_type": "markdown",
   "metadata": {},
   "source": [
    "- Robotic songs use around 10-20% less words related to joy, trust, and fear than non-robotic songs.\n",
    "- Robotic songs use about 20% more words related to surprise than non-robotic songs.\n",
    " - However, with a correction this is most likely not going to be statistically significant.\n",
    " \n",
    "Which words contributed the most to each sentiment category?\n",
    "We use the previous ratios data frame but only subset words that occur at least 5 times or more."
   ]
  },
  {
   "cell_type": "code",
   "execution_count": 13,
   "metadata": {},
   "outputs": [
    {
     "name": "stderr",
     "output_type": "stream",
     "text": [
      "`mutate_each()` is deprecated.\n",
      "Use `mutate_all()`, `mutate_at()` or `mutate_if()` instead.\n",
      "To map `funs` over a selection of variables, use `mutate_at()`\n"
     ]
    },
    {
     "data": {},
     "metadata": {},
     "output_type": "display_data"
    },
    {
     "data": {
      "image/png": "[encoded data removed]",
      "text/plain": [
       "plot without title"
      ]
     },
     "metadata": {},
     "output_type": "display_data"
    }
   ],
   "source": [
    "ratios <- unique_df_words %>%\n",
    "    count(word, Songwriter) %>%\n",
    "    filter(n > 3) %>%\n",
    "    spread(Songwriter, n, fill = 0) %>%\n",
    "    ungroup() %>% #what is this used for?\n",
    "    mutate_each(funs((. + 1) / sum(. + 1)), -word) %>%\n",
    "    mutate(logratio = log2(True / False)) %>%\n",
    "    arrange(desc(logratio))\n",
    "\n",
    "ratios %>%\n",
    "    inner_join(nrc, by = \"word\") %>%\n",
    "    filter(!sentiment %in% c(\"positive\", \"negative\")) %>%\n",
    "    mutate(sentiment = reorder(sentiment, -logratio),\n",
    "           word = reorder(word, -logratio)) %>%\n",
    "    group_by(sentiment) %>%\n",
    "    top_n(10, abs(logratio)) %>%\n",
    "    ungroup() %>%\n",
    "    ggplot(aes(word, logratio, fill = logratio < 0)) +\n",
    "    facet_wrap(~ sentiment, scales = \"free\", nrow = 2) +\n",
    "    geom_bar(stat = \"identity\") +\n",
    "    theme(axis.text.x = element_text(angle = 90, hjust = 1)) +\n",
    "    labs(x = \"\", y = \"Robotic / non-Robotic log ratio\") +\n",
    "    scale_fill_manual(name = \"\", labels = c(\"Robotic\", \"non-Robotic\"),\n",
    "                    values = c(\"#E69F00\", \"#56B4E9\"))"
   ]
  },
  {
   "cell_type": "markdown",
   "metadata": {},
   "source": [
    "Robotic\n",
    "\n",
    "- \"Kill\" and \"hate\" contribute the most to negative sentiments in robotic songs\n",
    "- \"trust\" contributes the most to the Trust category\n",
    "\n",
    "\n",
    "Non-robotic\n",
    "\n",
    "- \"Feeling\" contributes to the most to all sentiments in non-robotic songs\n",
    "- \"Kiss\" in surprise, joy and anticipation\n",
    "\n",
    "Signs of data sparsity also very apparent here."
   ]
  },
  {
   "cell_type": "markdown",
   "metadata": {},
   "source": [
    "## Latent Dirichlet Allocation"
   ]
  },
  {
   "cell_type": "markdown",
   "metadata": {},
   "source": [
    "We filter out words with only one occurence."
   ]
  },
  {
   "cell_type": "code",
   "execution_count": 14,
   "metadata": {},
   "outputs": [
    {
     "name": "stderr",
     "output_type": "stream",
     "text": [
      "Warning message:\n",
      "\"Trying to compute distinct() for variables not found in the data:\n",
      "- `row_col`, `column_col`\n",
      "This is an error, but only a warning is raised for compatibility reasons.\n",
      "The operation will return the input unchanged.\""
     ]
    }
   ],
   "source": [
    "word_counts <- df_words %>%\n",
    "    count(Name, word, sort = TRUE) %>%\n",
    "    filter(n > 1) %>%\n",
    "    ungroup() # do we need this?\n",
    "    \n",
    "word_count_matrix <- word_counts %>% cast_dtm(Name, word, n)"
   ]
  },
  {
   "cell_type": "markdown",
   "metadata": {},
   "source": [
    "We start with two topics. For both topics, let us first observe the most probable terms that will be generated from each topic (terms with high $\\beta$)."
   ]
  },
  {
   "cell_type": "code",
   "execution_count": 15,
   "metadata": {},
   "outputs": [
    {
     "data": {},
     "metadata": {},
     "output_type": "display_data"
    },
    {
     "data": {
      "image/png": "[encoded data removed]",
      "text/plain": [
       "plot without title"
      ]
     },
     "metadata": {},
     "output_type": "display_data"
    }
   ],
   "source": [
    "# create LDA object\n",
    "songs_lda <- LDA(word_count_matrix, k = 2, control = list(seed = 0))\n",
    "topics <- tidy(songs_lda, matrix = \"beta\")\n",
    "    \n",
    "# visualize\n",
    "top_terms <- topics %>%\n",
    "    group_by(topic) %>%\n",
    "    top_n(40, beta) %>%\n",
    "    ungroup() %>%\n",
    "    arrange(topic, -beta)\n",
    "    \n",
    "top_terms %>%\n",
    "    mutate(term = reorder(term, beta)) %>%\n",
    "    ggplot(aes(term, beta, fill = factor(topic))) +\n",
    "    geom_col(show.legend = FALSE) +\n",
    "    facet_wrap(~ topic, scales = \"free\") + # partition by topic\n",
    "    coord_flip()"
   ]
  },
  {
   "cell_type": "markdown",
   "metadata": {},
   "source": [
    "- Most common words in topic 1 include 'yeah', 'low', 'ooh', 'na', 'fuck', 'love' and 'wanna'. \n",
    " - This seems to be a Rap/Hip-hop topic, possibly with sexually charged lyrics.\n",
    " \n",
    " \n",
    "- The most common words in topic 2 include 'yeah', 'baby', 'love', 'wanna', 'bitch', 'la', and 'feel'. \n",
    " - Also seems to be a Rap/Hip-hop topic\n",
    " \n",
    " \n",
    "- The two words in common here are 'love' and 'yeah'. \n",
    "\n",
    "The key takeaway here is it seems Billboard contains many Rap/Hip-hop songs, which leads to a large class imbalance, skewing the topics. Ideally, we would have an equal number of songs per genre to reduce the effect of genre. This would lower genre as a source of variation and we would possibly have found topics that represented each genre."
   ]
  },
  {
   "cell_type": "markdown",
   "metadata": {},
   "source": [
    "We now consider words that had the greatest difference in $\\beta$."
   ]
  },
  {
   "cell_type": "code",
   "execution_count": 16,
   "metadata": {},
   "outputs": [
    {
     "data": {},
     "metadata": {},
     "output_type": "display_data"
    },
    {
     "data": {
      "image/png": "[encoded data removed]",
      "text/plain": [
       "plot without title"
      ]
     },
     "metadata": {},
     "output_type": "display_data"
    }
   ],
   "source": [
    "beta_spread <- topics %>%\n",
    "    mutate(topic = paste0(\"topic\", topic)) %>% # adds topic to each number\n",
    "    spread(topic, beta) %>% # key, values w/ values for each var\n",
    "    filter(topic1 > .005 | topic2 > .005) %>%\n",
    "    mutate(log_ratio = log2(topic2 / topic1)) %>%\n",
    "    #filter(abs(log_ratio) < 50) %>%\n",
    "    arrange(-log_ratio)\n",
    "\n",
    "# plot\n",
    "beta_spread %>%\n",
    "    mutate(term = reorder(term, log_ratio)) %>%\n",
    "    ggplot(aes(term, log_ratio)) + \n",
    "    geom_col(show.legend = FALSE) +\n",
    "    coord_flip()"
   ]
  },
  {
   "cell_type": "markdown",
   "metadata": {},
   "source": [
    "- Words such as loyalty only appear in robotic songs. In fact, it only appears in \"Loyalty.\" and \"DNA.\", both of which are robotic songs. Thus the extremely large and small log ratios are outliers."
   ]
  },
  {
   "cell_type": "code",
   "execution_count": 17,
   "metadata": {},
   "outputs": [
    {
     "data": {
      "text/html": [
       "<table>\n",
       "<thead><tr><th scope=col>Name</th><th scope=col>word</th><th scope=col>n</th></tr></thead>\n",
       "<tbody>\n",
       "\t<tr><td>Loyalty.</td><td>loyalty </td><td>32      </td></tr>\n",
       "\t<tr><td>DNA.    </td><td>loyalty </td><td> 4      </td></tr>\n",
       "</tbody>\n",
       "</table>\n"
      ],
      "text/latex": [
       "\\begin{tabular}{r|lll}\n",
       " Name & word & n\\\\\n",
       "\\hline\n",
       "\t Loyalty. & loyalty  & 32      \\\\\n",
       "\t DNA.     & loyalty  &  4      \\\\\n",
       "\\end{tabular}\n"
      ],
      "text/markdown": [
       "\n",
       "Name | word | n | \n",
       "|---|---|\n",
       "| Loyalty. | loyalty  | 32       | \n",
       "| DNA.     | loyalty  |  4       | \n",
       "\n",
       "\n"
      ],
      "text/plain": [
       "  Name     word    n \n",
       "1 Loyalty. loyalty 32\n",
       "2 DNA.     loyalty  4"
      ]
     },
     "metadata": {},
     "output_type": "display_data"
    }
   ],
   "source": [
    "word_counts[word_counts$word == \"loyalty\",]"
   ]
  },
  {
   "cell_type": "markdown",
   "metadata": {},
   "source": [
    "Just out of curiosity, what does three topics look like?"
   ]
  },
  {
   "cell_type": "code",
   "execution_count": 21,
   "metadata": {},
   "outputs": [
    {
     "data": {},
     "metadata": {},
     "output_type": "display_data"
    },
    {
     "data": {
      "image/png": "[encoded data removed]",
      "text/plain": [
       "plot without title"
      ]
     },
     "metadata": {},
     "output_type": "display_data"
    }
   ],
   "source": [
    "# create LDA object\n",
    "songs_lda <- LDA(word_count_matrix, k = 3, control = list(seed = 0))\n",
    "topics <- tidy(songs_lda, matrix = \"beta\")\n",
    "    \n",
    "# visualize\n",
    "top_terms <- topics %>%\n",
    "    group_by(topic) %>%\n",
    "    top_n(40, beta) %>%\n",
    "    ungroup() %>%\n",
    "    arrange(topic, -beta)\n",
    "    \n",
    "top_terms %>%\n",
    "    mutate(term = reorder(term, beta)) %>%\n",
    "    ggplot(aes(term, beta, fill = factor(topic))) +\n",
    "    geom_col(show.legend = FALSE) +\n",
    "    facet_wrap(~ topic, scales = \"free\") + # partition by topic\n",
    "    coord_flip()"
   ]
  },
  {
   "cell_type": "markdown",
   "metadata": {},
   "source": [
    "Top words per topic are almost the same, just like with two topics. This is a sign of too many topics. "
   ]
  }
 ],
 "metadata": {
  "kernelspec": {
   "display_name": "R",
   "language": "R",
   "name": "ir"
  },
  "language_info": {
   "codemirror_mode": "r",
   "file_extension": ".r",
   "mimetype": "text/x-r-source",
   "name": "R",
   "pygments_lexer": "r",
   "version": "3.5.1"
  }
 },
 "nbformat": 4,
 "nbformat_minor": 2
}
