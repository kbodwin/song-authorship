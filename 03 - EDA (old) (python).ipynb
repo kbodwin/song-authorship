{
 "cells": [
  {
   "cell_type": "code",
   "execution_count": 73,
   "metadata": {},
   "outputs": [],
   "source": [
    "import pandas as pd\n",
    "import re\n",
    "from collections import Counter\n",
    "import os\n",
    "from nltk.corpus import stopwords\n",
    "import numpy as np"
   ]
  },
  {
   "cell_type": "code",
   "execution_count": 23,
   "metadata": {},
   "outputs": [],
   "source": [
    "library = \"C:\\\\Users\\\\liblabs-user\\\\Desktop\\\\song-authorship\\\\data\""
   ]
  },
  {
   "cell_type": "code",
   "execution_count": 25,
   "metadata": {},
   "outputs": [],
   "source": [
    "df = pd.read_csv(library + \"\\\\Billboard_2017.csv\")"
   ]
  },
  {
   "cell_type": "code",
   "execution_count": 34,
   "metadata": {},
   "outputs": [],
   "source": [
    "nltk.download('stopwords')\n",
    "stop = set(stopwords.words(\"english\"))"
   ]
  },
  {
   "cell_type": "markdown",
   "metadata": {},
   "source": [
    "## Most frequently occuring words"
   ]
  },
  {
   "cell_type": "code",
   "execution_count": 45,
   "metadata": {},
   "outputs": [],
   "source": [
    "words = sorted(\n",
    "    Counter(\n",
    "        [y for x in df[\"Lyrics\"] \n",
    "               for y in re.split(\"\\s\", x) \n",
    "                if ((y != \"\") and (y.lower() not in stop))]\n",
    "        ).items(), \n",
    "    key = lambda x : x[1], \n",
    "    reverse = True)"
   ]
  },
  {
   "cell_type": "code",
   "execution_count": 47,
   "metadata": {},
   "outputs": [
    {
     "data": {
      "text/plain": [
       "[(\"I'm\", 606),\n",
       " ('like', 374),\n",
       " ('know', 286),\n",
       " ('got', 267),\n",
       " ('yeah', 241),\n",
       " ('get', 198),\n",
       " (\"ain't\", 177),\n",
       " ('wanna', 171),\n",
       " ('up,', 169),\n",
       " ('love', 165),\n",
       " ('down,', 165),\n",
       " ('want', 153),\n",
       " ('yeah,', 138),\n",
       " ('low,', 136),\n",
       " ('feel', 135),\n",
       " ('back', 129),\n",
       " ('me,', 116),\n",
       " ('fuck', 114),\n",
       " ('baby', 113),\n",
       " ('Yeah,', 109),\n",
       " ('never', 107),\n",
       " ('one', 106),\n",
       " ('go', 101),\n",
       " ('say', 97),\n",
       " ('you,', 95),\n",
       " ('time', 95),\n",
       " (\"can't\", 92),\n",
       " ('need', 92),\n",
       " ('way', 91),\n",
       " ('bitch', 91),\n",
       " ('take', 88),\n",
       " ('see', 85),\n",
       " ('come', 84),\n",
       " ('let', 83),\n",
       " ('made', 80),\n",
       " ('ayy', 79),\n",
       " ('make', 76),\n",
       " ('baby,', 72),\n",
       " ('keep', 69),\n",
       " ('look', 69)]"
      ]
     },
     "execution_count": 47,
     "metadata": {},
     "output_type": "execute_result"
    }
   ],
   "source": [
    "words[:40]"
   ]
  },
  {
   "cell_type": "code",
   "execution_count": 58,
   "metadata": {},
   "outputs": [],
   "source": [
    "tmp = [re.split(\"\\s+\", x) for x in df[\"Lyrics\"]]"
   ]
  },
  {
   "cell_type": "code",
   "execution_count": 65,
   "metadata": {},
   "outputs": [],
   "source": [
    "#for i in range(len(tmp)):\n",
    "    #tmp[i] = set(tmp[i])"
   ]
  },
  {
   "cell_type": "markdown",
   "metadata": {},
   "source": [
    "## Log-odds"
   ]
  },
  {
   "cell_type": "markdown",
   "metadata": {},
   "source": [
    "$$\\log_2\\left(\\frac{\\frac{\\mbox{# in robotic} + 1}{\\mbox{Total robotic} + 1}}\n",
    "  {\\frac{\\mbox{# in artist} + 1}{\\mbox{Total artist} + 1}}\\right)$$"
   ]
  },
  {
   "cell_type": "code",
   "execution_count": 101,
   "metadata": {},
   "outputs": [],
   "source": [
    "writer = df[df[\"Songwriter\"] == True]\n",
    "nowriter = df[df[\"Songwriter\"] == False]\n",
    "writecount = Counter(\n",
    "        [y for x in writer[\"Lyrics\"] \n",
    "               for y in re.split(\"\\s\", x) \n",
    "                if ((y != \"\") and (y.lower() not in stop))]\n",
    "        )\n",
    "nowritecount = Counter(\n",
    "        [y for x in nowriter[\"Lyrics\"] \n",
    "               for y in re.split(\"\\s\", x) \n",
    "                if ((y != \"\") and (y.lower() not in stop))]\n",
    "        )\n",
    "\n",
    "writetot = sum(writecount.values())\n",
    "nowritetot = sum(nowritecount.values())\n",
    "result = {i:np.log2((writecount[i] /  writetot) / (nowritecount[i] / nowritetot)) for i in writecount if nowritecount[i] >= 4}\n",
    "final = sorted(result.items(), key = lambda x: x[1], reverse = True)"
   ]
  },
  {
   "cell_type": "code",
   "execution_count": 104,
   "metadata": {},
   "outputs": [
    {
     "data": {
      "text/plain": [
       "[(\"lil'\", 3.3654381568200646),\n",
       " ('God', 3.10828031732294),\n",
       " ('Ooh,', 2.6169769238160288),\n",
       " ('Come', 2.5580832347624605),\n",
       " ('hands', 2.5580832347624605),\n",
       " ('dance,', 2.445608505504048),\n",
       " ('big', 2.3236179811254374),\n",
       " ('night', 2.312970736925929),\n",
       " ('up,', 2.2950488289286666),\n",
       " ('on,', 2.2805492592335517),\n",
       " ('trust', 2.2361551398750983),\n",
       " ('top', 2.2101599313421536),\n",
       " ('hey,', 2.043510061932702),\n",
       " ('Say', 2.017514853399758),\n",
       " ('beautiful', 2.017514853399758),\n",
       " ('mine', 1.9731207340413046),\n",
       " ('real', 1.9273170444281795),\n",
       " ('hey', 1.9117201893771611),\n",
       " ('now,', 1.8800113296498226),\n",
       " ('listen', 1.8800113296498226),\n",
       " ('night,', 1.8211176405962544),\n",
       " ('body', 1.7675366003914101),\n",
       " ('uh', 1.7280082362047728),\n",
       " ('afraid', 1.7280082362047728),\n",
       " ('nobody', 1.7100863282075105),\n",
       " (\"I've\", 1.6624198945771962),\n",
       " ('like,', 1.657618908313375),\n",
       " ('Fuck', 1.6455460760127998),\n",
       " ('water', 1.5580832347624605),\n",
       " ('day', 1.5580832347624602),\n",
       " ('move', 1.5580832347624602),\n",
       " ('Uzi', 1.5580832347624602),\n",
       " ('forever,', 1.5580832347624602),\n",
       " ('feels', 1.5580832347624602),\n",
       " ('inside', 1.5580832347624602),\n",
       " ('straight', 1.5580832347624602),\n",
       " ('made', 1.4511680308459485),\n",
       " ('side', 1.4511680308459485),\n",
       " (\"that's\", 1.4456085055040477),\n",
       " ('rock', 1.4325523526786017),\n",
       " ('people', 1.4325523526786017),\n",
       " ('drop', 1.4205797110125256),\n",
       " ('de', 1.4060801413174104),\n",
       " (\"talkin'\", 1.4060801413174104),\n",
       " ('since', 1.4060801413174104),\n",
       " ('bank', 1.4060801413174104),\n",
       " ('keep', 1.3736586636250327),\n",
       " ('One', 1.3654381568200646),\n",
       " ('hate', 1.3654381568200646),\n",
       " ('Call', 1.3654381568200646)]"
      ]
     },
     "execution_count": 104,
     "metadata": {},
     "output_type": "execute_result"
    }
   ],
   "source": [
    "final[:50]"
   ]
  },
  {
   "cell_type": "code",
   "execution_count": 105,
   "metadata": {},
   "outputs": [
    {
     "data": {
      "text/plain": [
       "[('show', -2.4419167652375395),\n",
       " ('red', -2.4419167652375395),\n",
       " ('stuck', -2.4419167652375395),\n",
       " ('believe', -2.4419167652375395),\n",
       " ('would', -2.4419167652375395),\n",
       " ('lane', -2.4419167652375395),\n",
       " ('another', -2.4419167652375395),\n",
       " ('said,', -2.4419167652375395),\n",
       " ('fight', -2.4419167652375395),\n",
       " (\"I'd\", -2.4419167652375395),\n",
       " ('know,', -2.477540674968261),\n",
       " ('boy', -2.5008104542911083),\n",
       " ('Paris', -2.6118417666798517),\n",
       " ('magic', -2.6118417666798517),\n",
       " ('six', -2.6118417666798517),\n",
       " ('running', -2.6118417666798517),\n",
       " ('sell', -2.6118417666798517),\n",
       " ('block', -2.6118417666798517),\n",
       " (\"doin'\", -2.6118417666798517),\n",
       " ('treat', -2.6118417666798517),\n",
       " ('huh?', -2.6118417666798517),\n",
       " ('brain', -2.6118417666798517),\n",
       " ('Uh', -2.6118417666798517),\n",
       " ('explain', -2.7638448601249017),\n",
       " ('Push', -2.7638448601249017),\n",
       " ('Running', -2.7638448601249017),\n",
       " ('ask', -2.7638448601249017),\n",
       " ('Know', -2.7638448601249017),\n",
       " ('Loyalty,', -2.7638448601249017),\n",
       " ('next', -2.7638448601249017),\n",
       " (\"lookin'\", -2.8342341880163),\n",
       " ('bad,', -2.901348383874837),\n",
       " ('else', -2.901348383874837),\n",
       " ('drunk', -2.901348383874837),\n",
       " ('fine', -2.901348383874837),\n",
       " ('try', -3.0268792659586956),\n",
       " ('bust', -3.1423564833786317),\n",
       " ('babe', -3.1423564833786317),\n",
       " ('home,', -3.196804267401008),\n",
       " ('la', -3.2492716872951437),\n",
       " ('ah', -3.2492716872951437),\n",
       " ('understand', -3.3488073608460582),\n",
       " ('high', -3.3961130756244144),\n",
       " ('24', -3.5293796064878786),\n",
       " ('woo,', -3.5293796064878786),\n",
       " ('Even', -3.6118417666798517),\n",
       " ('Rollie,', -3.7638448601249017),\n",
       " ('Let', -3.7638448601249017),\n",
       " ('please', -3.7638448601249017),\n",
       " ('wild', -4.026879265958695)]"
      ]
     },
     "execution_count": 105,
     "metadata": {},
     "output_type": "execute_result"
    }
   ],
   "source": [
    "final[-50:]"
   ]
  }
 ],
 "metadata": {
  "kernelspec": {
   "display_name": "Python 3",
   "language": "python",
   "name": "python3"
  },
  "language_info": {
   "codemirror_mode": {
    "name": "ipython",
    "version": 3
   },
   "file_extension": ".py",
   "mimetype": "text/x-python",
   "name": "python",
   "nbconvert_exporter": "python",
   "pygments_lexer": "ipython3",
   "version": "3.6.5"
  }
 },
 "nbformat": 4,
 "nbformat_minor": 2
}
